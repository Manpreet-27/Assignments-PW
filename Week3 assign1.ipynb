{
 "cells": [
  {
   "cell_type": "markdown",
   "id": "63745317-f131-4a80-9824-7e512a0bc5fc",
   "metadata": {},
   "source": [
    "Q1. Which keyword is used to create a function? Create a function to return a list of odd numbers in the \n",
    "range of 1 to 25."
   ]
  },
  {
   "cell_type": "markdown",
   "id": "07a6b808-0b8b-4e66-98f0-416585d4cc7d",
   "metadata": {},
   "source": [
    "We use def keyword to create a function. First we will write the keyword def then write the name of the function we want to create and then we will wite parenthesis () and close it with colon:.We use Docstring to to define our function which gives the detail of the function, docstring can be written using \"\"\"\"\"\" before and after writing the statement."
   ]
  },
  {
   "cell_type": "code",
   "execution_count": 9,
   "id": "98dcedf0-51a3-4169-94e8-863fb9fa8d17",
   "metadata": {},
   "outputs": [
    {
     "data": {
      "text/plain": [
       "[1, 3, 5, 7, 9, 11, 13, 15, 17, 19, 21, 23]"
      ]
     },
     "execution_count": 9,
     "metadata": {},
     "output_type": "execute_result"
    }
   ],
   "source": [
    "def Odd_num():\n",
    "    \"\"\"A function to return a list of odd numbers\"\"\"\n",
    "    l=[]\n",
    "    for i in range(1,25):\n",
    "        if i%2 != 0:\n",
    "            l.append(i)\n",
    "    return l\n",
    "Odd_num()\n",
    "    "
   ]
  },
  {
   "cell_type": "code",
   "execution_count": null,
   "id": "7e1a2f75-6018-483e-91a7-d5aa1b1c6fab",
   "metadata": {},
   "outputs": [],
   "source": []
  },
  {
   "cell_type": "markdown",
   "id": "208d4a8f-4be4-4ab8-89e4-c4fdc09996ae",
   "metadata": {},
   "source": [
    "Q2. Why *args and **kwargs is used in some functions? Create a function each for *args and **kwargs \n",
    "to demonstrate their use."
   ]
  },
  {
   "cell_type": "markdown",
   "id": "4e3be4cc-3c16-4dd2-9ee0-093e10be4299",
   "metadata": {},
   "source": [
    "When we want our function to be dynamic i.e; users can add multiple or n number of inputs then we use *args. We can also write our own args."
   ]
  },
  {
   "cell_type": "code",
   "execution_count": 19,
   "id": "5b52f6c8-2051-4a04-ba50-a377f03b8462",
   "metadata": {},
   "outputs": [],
   "source": [
    "def Personal_info(*args):\n",
    "    \"\"\"accepts multiple inputs\"\"\"\n",
    "    return args"
   ]
  },
  {
   "cell_type": "code",
   "execution_count": 20,
   "id": "cefdd3a3-d9ae-4126-970b-359a917e4b52",
   "metadata": {},
   "outputs": [
    {
     "data": {
      "text/plain": [
       "('Neha', 9870654321)"
      ]
     },
     "execution_count": 20,
     "metadata": {},
     "output_type": "execute_result"
    }
   ],
   "source": [
    "Personal_info(\"Neha\", 9870654321)"
   ]
  },
  {
   "cell_type": "code",
   "execution_count": 23,
   "id": "d7e257d3-d5fb-47f5-81f5-d748f9cc4fd6",
   "metadata": {},
   "outputs": [],
   "source": [
    "def Personal_info(*args, age=23):\n",
    "    return age,args"
   ]
  },
  {
   "cell_type": "code",
   "execution_count": 24,
   "id": "853bfdf2-f818-48e0-a614-89cc1cfbf9b7",
   "metadata": {},
   "outputs": [
    {
     "data": {
      "text/plain": [
       "(23, ('Neha', 9870654321))"
      ]
     },
     "execution_count": 24,
     "metadata": {},
     "output_type": "execute_result"
    }
   ],
   "source": [
    "Personal_info(\"Neha\", 9870654321)"
   ]
  },
  {
   "cell_type": "code",
   "execution_count": null,
   "id": "26124be0-c581-4e0a-98f8-8fc16e615a60",
   "metadata": {},
   "outputs": [],
   "source": []
  },
  {
   "cell_type": "markdown",
   "id": "b3d3fe18-a24f-45bc-8834-0514407ed6a0",
   "metadata": {},
   "source": [
    "If we want to pass 'n' number of keyword args i.e; key value pair, we will use ** with the keyword kwargs to do so.(**kwargs)"
   ]
  },
  {
   "cell_type": "code",
   "execution_count": 25,
   "id": "6548bb5f-ceaa-4382-a7a3-b5e84ee2b6d3",
   "metadata": {},
   "outputs": [],
   "source": [
    "def key_value_pair(**kwargs):\n",
    "    return kwargs"
   ]
  },
  {
   "cell_type": "code",
   "execution_count": 27,
   "id": "9c74abc9-3aae-42c8-89d8-b55b79c0023c",
   "metadata": {},
   "outputs": [
    {
     "data": {
      "text/plain": [
       "{}"
      ]
     },
     "execution_count": 27,
     "metadata": {},
     "output_type": "execute_result"
    }
   ],
   "source": [
    "key_value_pair()"
   ]
  },
  {
   "cell_type": "code",
   "execution_count": 29,
   "id": "981be4db-b0d3-4f39-b95f-e0ed29802b92",
   "metadata": {},
   "outputs": [
    {
     "data": {
      "text/plain": [
       "dict"
      ]
     },
     "execution_count": 29,
     "metadata": {},
     "output_type": "execute_result"
    }
   ],
   "source": [
    "type(key_value_pair())"
   ]
  },
  {
   "cell_type": "code",
   "execution_count": 31,
   "id": "b53e0d3b-77f2-4895-a704-aff04508db53",
   "metadata": {},
   "outputs": [
    {
     "data": {
      "text/plain": [
       "{'list': [1, 2, 3], 'name': 'Neha', 'Marks': '90'}"
      ]
     },
     "execution_count": 31,
     "metadata": {},
     "output_type": "execute_result"
    }
   ],
   "source": [
    "key_value_pair(list=[1,2,3], name=\"Neha\", Marks=\"90\")"
   ]
  },
  {
   "cell_type": "code",
   "execution_count": null,
   "id": "2af7e892-bcc3-435c-8d2d-d0c15137b319",
   "metadata": {},
   "outputs": [],
   "source": []
  },
  {
   "cell_type": "markdown",
   "id": "99d00a51-6767-41ad-9e69-fbe9a2f8c1bf",
   "metadata": {},
   "source": [
    "Q3.  What is an iterator in python? Name the method used to initialise the iterator object and the method \n",
    "used for iteration. Use these methods to print the first five elements of the given list [2, 4, 6, 8, 10, 12, 14, \n",
    "16, 18, 20]."
   ]
  },
  {
   "cell_type": "markdown",
   "id": "4cf6c2ce-3371-4a3a-aa12-3357749e6315",
   "metadata": {},
   "source": [
    "Iterator is the inbuilt function or we can say an object that contains a countable number of elements that can be iterated upon. It iters the iterable objects. In simpler words, we can say that Iterators are objects that allow us to traverse through all the elements of a collection and return one element at a time.\n",
    "To create an object/class as an iterator we have to implement the methods iter() and next(). All classes have a function called init() , which allows us to do some initializing."
   ]
  },
  {
   "cell_type": "code",
   "execution_count": 1,
   "id": "4e562404-a6ff-4b2d-8d97-aa9a430e78f4",
   "metadata": {},
   "outputs": [],
   "source": [
    "l=[2,4,6,8,10,12,14,16,18,20]"
   ]
  },
  {
   "cell_type": "code",
   "execution_count": 2,
   "id": "addc592b-dba3-4711-baba-8fac9836c214",
   "metadata": {},
   "outputs": [],
   "source": [
    "l1=iter(l)"
   ]
  },
  {
   "cell_type": "code",
   "execution_count": 3,
   "id": "c2ecaa0b-ce09-4142-b3e3-0673709fbe82",
   "metadata": {},
   "outputs": [
    {
     "data": {
      "text/plain": [
       "2"
      ]
     },
     "execution_count": 3,
     "metadata": {},
     "output_type": "execute_result"
    }
   ],
   "source": [
    "next(l1)"
   ]
  },
  {
   "cell_type": "code",
   "execution_count": 4,
   "id": "42b5a925-42c9-42d2-bacf-bd6e7f146281",
   "metadata": {},
   "outputs": [
    {
     "data": {
      "text/plain": [
       "4"
      ]
     },
     "execution_count": 4,
     "metadata": {},
     "output_type": "execute_result"
    }
   ],
   "source": [
    "next(l1)"
   ]
  },
  {
   "cell_type": "code",
   "execution_count": 5,
   "id": "fb3506f0-f1fd-4d9e-ba26-f47ca932d39e",
   "metadata": {},
   "outputs": [
    {
     "data": {
      "text/plain": [
       "6"
      ]
     },
     "execution_count": 5,
     "metadata": {},
     "output_type": "execute_result"
    }
   ],
   "source": [
    "next(l1)"
   ]
  },
  {
   "cell_type": "code",
   "execution_count": 6,
   "id": "a8684649-2344-4f10-b1cb-7c6ceae85cc3",
   "metadata": {},
   "outputs": [
    {
     "data": {
      "text/plain": [
       "8"
      ]
     },
     "execution_count": 6,
     "metadata": {},
     "output_type": "execute_result"
    }
   ],
   "source": [
    "next(l1)"
   ]
  },
  {
   "cell_type": "code",
   "execution_count": 7,
   "id": "dfea3377-5ba8-4374-9b8c-db49243f3d5f",
   "metadata": {},
   "outputs": [
    {
     "data": {
      "text/plain": [
       "10"
      ]
     },
     "execution_count": 7,
     "metadata": {},
     "output_type": "execute_result"
    }
   ],
   "source": [
    "next(l1)"
   ]
  },
  {
   "cell_type": "code",
   "execution_count": null,
   "id": "bc8d61c5-6ab9-4685-8938-a7468d30bb96",
   "metadata": {},
   "outputs": [],
   "source": []
  },
  {
   "cell_type": "markdown",
   "id": "7c774c8b-6f37-4c10-bd93-6a6163b4fdd9",
   "metadata": {},
   "source": [
    "Q4.  What is a generator function in python? Why yield keyword is used? Give an example of a generator \n",
    "function."
   ]
  },
  {
   "cell_type": "markdown",
   "id": "e41ec0bf-e397-42c7-b369-daaf7195341e",
   "metadata": {},
   "source": [
    "*A generator function in Python is a special type of function that returns a generator iterator, which can be used to iterate over a sequence of elements.In simple words to check the elements within a range.\n",
    "*A generator function is defined like a normal function, but instead of using the return statement to return a value, it uses the yield statement."
   ]
  },
  {
   "cell_type": "code",
   "execution_count": 13,
   "id": "77b31025-338d-4661-b10a-a65434256057",
   "metadata": {},
   "outputs": [],
   "source": [
    "#Example to check fibonacci numbers using generator function\n",
    "def fib(n):\n",
    "    a,b = 0,1\n",
    "    for i in range(n):\n",
    "        yield a\n",
    "        a,b =b, a+b\n"
   ]
  },
  {
   "cell_type": "code",
   "execution_count": 14,
   "id": "4c845773-7690-4b85-be7a-0c1a1f733f3c",
   "metadata": {},
   "outputs": [
    {
     "name": "stdout",
     "output_type": "stream",
     "text": [
      "0\n",
      "1\n",
      "1\n",
      "2\n",
      "3\n",
      "5\n",
      "8\n",
      "13\n",
      "21\n",
      "34\n"
     ]
    }
   ],
   "source": [
    "for i in fib(10):\n",
    "    print(i)"
   ]
  },
  {
   "cell_type": "code",
   "execution_count": null,
   "id": "df84860e-921e-403d-a808-708109091135",
   "metadata": {},
   "outputs": [],
   "source": []
  },
  {
   "cell_type": "markdown",
   "id": "922143c5-a48f-44f0-a680-3f9240b75f52",
   "metadata": {},
   "source": [
    "Q5. Create a generator function for prime numbers less than 1000. Use the next() method to print the \n",
    "first 20 prime numbers."
   ]
  },
  {
   "cell_type": "code",
   "execution_count": 20,
   "id": "96b3e7a7-a5a8-4450-8a7c-f442d31ff80e",
   "metadata": {},
   "outputs": [
    {
     "name": "stdout",
     "output_type": "stream",
     "text": [
      "2\n",
      "3\n",
      "5\n",
      "7\n",
      "11\n",
      "13\n",
      "17\n",
      "19\n",
      "23\n",
      "29\n",
      "31\n",
      "37\n",
      "41\n",
      "43\n",
      "47\n",
      "53\n",
      "59\n",
      "61\n",
      "67\n",
      "71\n",
      "73\n",
      "79\n",
      "83\n",
      "89\n",
      "97\n",
      "101\n",
      "103\n",
      "107\n",
      "109\n",
      "113\n",
      "127\n",
      "131\n",
      "137\n",
      "139\n",
      "149\n",
      "151\n",
      "157\n",
      "163\n",
      "167\n",
      "173\n",
      "179\n",
      "181\n",
      "191\n",
      "193\n",
      "197\n",
      "199\n",
      "211\n",
      "223\n",
      "227\n",
      "229\n",
      "233\n",
      "239\n",
      "241\n",
      "251\n",
      "257\n",
      "263\n",
      "269\n",
      "271\n",
      "277\n",
      "281\n",
      "283\n",
      "293\n",
      "307\n",
      "311\n",
      "313\n",
      "317\n",
      "331\n",
      "337\n",
      "347\n",
      "349\n",
      "353\n",
      "359\n",
      "367\n",
      "373\n",
      "379\n",
      "383\n",
      "389\n",
      "397\n",
      "401\n",
      "409\n",
      "419\n",
      "421\n",
      "431\n",
      "433\n",
      "439\n",
      "443\n",
      "449\n",
      "457\n",
      "461\n",
      "463\n",
      "467\n",
      "479\n",
      "487\n",
      "491\n",
      "499\n",
      "503\n",
      "509\n",
      "521\n",
      "523\n",
      "541\n",
      "547\n",
      "557\n",
      "563\n",
      "569\n",
      "571\n",
      "577\n",
      "587\n",
      "593\n",
      "599\n",
      "601\n",
      "607\n",
      "613\n",
      "617\n",
      "619\n",
      "631\n",
      "641\n",
      "643\n",
      "647\n",
      "653\n",
      "659\n",
      "661\n",
      "673\n",
      "677\n",
      "683\n",
      "691\n",
      "701\n",
      "709\n",
      "719\n",
      "727\n",
      "733\n",
      "739\n",
      "743\n",
      "751\n",
      "757\n",
      "761\n",
      "769\n",
      "773\n",
      "787\n",
      "797\n",
      "809\n",
      "811\n",
      "821\n",
      "823\n",
      "827\n",
      "829\n",
      "839\n",
      "853\n",
      "857\n",
      "859\n",
      "863\n",
      "877\n",
      "881\n",
      "883\n",
      "887\n",
      "907\n",
      "911\n",
      "919\n",
      "929\n",
      "937\n",
      "941\n",
      "947\n",
      "953\n",
      "967\n",
      "971\n",
      "977\n",
      "983\n",
      "991\n",
      "997\n"
     ]
    }
   ],
   "source": [
    "def print_primes(n):\n",
    "    def is_prime(num):\n",
    "        if num < 2:\n",
    "            return False\n",
    "        for i in range(2, int(num**0.5) + 1):\n",
    "            if num % i == 0:\n",
    "                return False\n",
    "        return True\n",
    "\n",
    "    i = 2\n",
    "    while i <= n:\n",
    "        if is_prime(i):\n",
    "            print(i)\n",
    "        i += 1\n",
    "\n",
    "# To use the function, replace \"num\" with the maximum number we want to check\n",
    "print_primes(1000)"
   ]
  },
  {
   "cell_type": "code",
   "execution_count": 1,
   "id": "0843c2a7-cffc-4637-b40e-a0f615157f05",
   "metadata": {},
   "outputs": [
    {
     "ename": "NameError",
     "evalue": "name 'print_primes' is not defined",
     "output_type": "error",
     "traceback": [
      "\u001b[0;31m---------------------------------------------------------------------------\u001b[0m",
      "\u001b[0;31mNameError\u001b[0m                                 Traceback (most recent call last)",
      "Cell \u001b[0;32mIn[1], line 2\u001b[0m\n\u001b[1;32m      1\u001b[0m \u001b[38;5;66;03m# Create a generator object\u001b[39;00m\n\u001b[0;32m----> 2\u001b[0m prime_generator \u001b[38;5;241m=\u001b[39m \u001b[43mprint_primes\u001b[49m(\u001b[38;5;241m20\u001b[39m)\n\u001b[1;32m      4\u001b[0m \u001b[38;5;66;03m# Print the first 20 prime numbers less than 1000\u001b[39;00m\n\u001b[1;32m      5\u001b[0m \u001b[38;5;28;01mfor\u001b[39;00m i \u001b[38;5;129;01min\u001b[39;00m \u001b[38;5;28mrange\u001b[39m(\u001b[38;5;241m20\u001b[39m):\n",
      "\u001b[0;31mNameError\u001b[0m: name 'print_primes' is not defined"
     ]
    }
   ],
   "source": [
    "# Create a generator object\n",
    "prime_generator = print_primes(20)\n",
    "\n",
    "# Print the first 20 prime numbers less than 1000\n",
    "for i in range(20):\n",
    "    print(next(prime_generator))"
   ]
  },
  {
   "cell_type": "markdown",
   "id": "b5d72a67-e132-4101-a28e-b5ad3a4579a2",
   "metadata": {},
   "source": [
    "unable to solve this error"
   ]
  },
  {
   "cell_type": "code",
   "execution_count": null,
   "id": "112e1acc-3193-4168-9097-bdb882d2deb8",
   "metadata": {},
   "outputs": [],
   "source": []
  },
  {
   "cell_type": "markdown",
   "id": "e8377dfb-55a8-4d7c-a9b4-ca56cf051d20",
   "metadata": {},
   "source": [
    "Q6. Write a python program to print the first 10 Fibonacci numbers using a while loop."
   ]
  },
  {
   "cell_type": "code",
   "execution_count": 27,
   "id": "ae65fe7f-7c0a-43cc-bf38-493748326394",
   "metadata": {},
   "outputs": [
    {
     "name": "stdin",
     "output_type": "stream",
     "text": [
      "Enter the range 10\n"
     ]
    },
    {
     "name": "stdout",
     "output_type": "stream",
     "text": [
      "Fibonacci numbers are:  0 1 1 2 3 5 8 13 21 34 "
     ]
    }
   ],
   "source": [
    "n = int(input(\"Enter the range\"))\n",
    "a,b= 0,1\n",
    "sum = a + b\n",
    "count = 1\n",
    "print(\"Fibonacci numbers are: \", end=\" \")\n",
    "while (count <= n):\n",
    "\tcount += 1\n",
    "\tprint(a, end=\" \")\n",
    "\ta = b\n",
    "\tb = sum\n",
    "\tsum = a + b"
   ]
  },
  {
   "cell_type": "code",
   "execution_count": null,
   "id": "fb258920-65f7-4af0-a3ba-32938d8bb1b2",
   "metadata": {},
   "outputs": [],
   "source": []
  },
  {
   "cell_type": "markdown",
   "id": "0cb8cd0b-a6a5-4d79-8250-f0fc903c3fad",
   "metadata": {},
   "source": [
    "Q7. Write a List Comprehension to iterate through the given string: ‘pwskills’.\n",
    "\n",
    "Expected output: ['p', 'w', 's', 'k', 'i', 'l', 'l', 's']"
   ]
  },
  {
   "cell_type": "code",
   "execution_count": 19,
   "id": "0090bb28-88bc-47a9-9e3a-f7f7e9ed6cbe",
   "metadata": {},
   "outputs": [
    {
     "name": "stdout",
     "output_type": "stream",
     "text": [
      "['p']\n",
      "['p', 'w']\n",
      "['p', 'w', 's']\n",
      "['p', 'w', 's', 'k']\n",
      "['p', 'w', 's', 'k', 'i']\n",
      "['p', 'w', 's', 'k', 'i', 'l']\n",
      "['p', 'w', 's', 'k', 'i', 'l', 'l']\n",
      "['p', 'w', 's', 'k', 'i', 'l', 'l', 's']\n"
     ]
    }
   ],
   "source": [
    "s=\"pwskills\"\n",
    "list=[]  \n",
    "for char in s:\n",
    "    list.append(char)\n",
    "    print(list)"
   ]
  },
  {
   "cell_type": "code",
   "execution_count": null,
   "id": "ec1164c0-4cf5-42f9-8d70-2a80340f153f",
   "metadata": {},
   "outputs": [],
   "source": []
  },
  {
   "cell_type": "markdown",
   "id": "fb5f44a0-dd65-4d90-a628-4a6b449807aa",
   "metadata": {},
   "source": [
    "Q8. Write a python program to check whether a given number is Palindrome or not using a while loop."
   ]
  },
  {
   "cell_type": "code",
   "execution_count": 23,
   "id": "2c628c4e-0031-4bf0-a78c-0736b0aea0fe",
   "metadata": {},
   "outputs": [
    {
     "name": "stdin",
     "output_type": "stream",
     "text": [
      "Enter a number: 2\n"
     ]
    },
    {
     "name": "stdout",
     "output_type": "stream",
     "text": [
      "The number is palindrome\n"
     ]
    }
   ],
   "source": [
    "num=int(input(\"Enter a number:\"))\n",
    "temp=num\n",
    "rev=0\n",
    "while(num>0):\n",
    "    dig=num%10\n",
    "    rev=rev*10+dig\n",
    "    num=num//10\n",
    "if(temp==rev):\n",
    "    print(\"The number is palindrome\")\n",
    "else:\n",
    "    print(\"Not a palindrome!\")"
   ]
  },
  {
   "cell_type": "code",
   "execution_count": 24,
   "id": "64f19125-0800-4fe4-8698-37e48e190daa",
   "metadata": {},
   "outputs": [
    {
     "name": "stdin",
     "output_type": "stream",
     "text": [
      "Enter a number: 15\n"
     ]
    },
    {
     "name": "stdout",
     "output_type": "stream",
     "text": [
      "Not a palindrome!\n"
     ]
    }
   ],
   "source": [
    "num=int(input(\"Enter a number:\"))\n",
    "temp=num\n",
    "rev=0\n",
    "while(num>0):\n",
    "    dig=num%10\n",
    "    rev=rev*10+dig\n",
    "    num=num//10\n",
    "if(temp==rev):\n",
    "    print(\"The number is palindrome\")\n",
    "else:\n",
    "    print(\"Not a palindrome!\")"
   ]
  },
  {
   "cell_type": "code",
   "execution_count": null,
   "id": "02dc2321-ff3b-417f-a4fd-7921d4911566",
   "metadata": {},
   "outputs": [],
   "source": []
  },
  {
   "cell_type": "markdown",
   "id": "767e7cbf-9182-46e9-8ac1-9f84c1521aea",
   "metadata": {},
   "source": [
    "Q9. Write a code to print odd numbers from 1 to 100 using list comprehension.\n",
    "Note: Use a list comprehension to create a list from 1 to 100 and use another List comprehension to filter \n",
    "out odd numbers"
   ]
  },
  {
   "cell_type": "code",
   "execution_count": 19,
   "id": "f02f88f8-5388-4e71-95db-77817e8e5293",
   "metadata": {},
   "outputs": [
    {
     "name": "stdout",
     "output_type": "stream",
     "text": [
      "[1, 2, 3, 4, 5, 6, 7, 8, 9, 10, 11, 12, 13, 14, 15, 16, 17, 18, 19, 20, 21, 22, 23, 24, 25, 26, 27, 28, 29, 30, 31, 32, 33, 34, 35, 36, 37, 38, 39, 40, 41, 42, 43, 44, 45, 46, 47, 48, 49, 50, 51, 52, 53, 54, 55, 56, 57, 58, 59, 60, 61, 62, 63, 64, 65, 66, 67, 68, 69, 70, 71, 72, 73, 74, 75, 76, 77, 78, 79, 80, 81, 82, 83, 84, 85, 86, 87, 88, 89, 90, 91, 92, 93, 94, 95, 96, 97, 98, 99] "
     ]
    }
   ],
   "source": [
    "l=list(range(1,100))\n",
    "for x in l:\n",
    "    print(l, end=\" \")\n",
    "    break\n",
    "    \n"
   ]
  },
  {
   "cell_type": "code",
   "execution_count": 38,
   "id": "9c1c0063-1a22-4d1a-8702-22dce1363d30",
   "metadata": {},
   "outputs": [
    {
     "data": {
      "text/plain": [
       "[1,\n",
       " 3,\n",
       " 5,\n",
       " 7,\n",
       " 9,\n",
       " 11,\n",
       " 13,\n",
       " 15,\n",
       " 17,\n",
       " 19,\n",
       " 21,\n",
       " 23,\n",
       " 25,\n",
       " 27,\n",
       " 29,\n",
       " 31,\n",
       " 33,\n",
       " 35,\n",
       " 37,\n",
       " 39,\n",
       " 41,\n",
       " 43,\n",
       " 45,\n",
       " 47,\n",
       " 49,\n",
       " 51,\n",
       " 53,\n",
       " 55,\n",
       " 57,\n",
       " 59,\n",
       " 61,\n",
       " 63,\n",
       " 65,\n",
       " 67,\n",
       " 69,\n",
       " 71,\n",
       " 73,\n",
       " 75,\n",
       " 77,\n",
       " 79,\n",
       " 81,\n",
       " 83,\n",
       " 85,\n",
       " 87,\n",
       " 89,\n",
       " 91,\n",
       " 93,\n",
       " 95,\n",
       " 97,\n",
       " 99]"
      ]
     },
     "execution_count": 38,
     "metadata": {},
     "output_type": "execute_result"
    }
   ],
   "source": [
    "list(filter(lambda x: x%2 !=0, l))\n",
    "\n"
   ]
  },
  {
   "cell_type": "code",
   "execution_count": null,
   "id": "f4c84247-4e3d-4916-82ac-2d8209f820fd",
   "metadata": {},
   "outputs": [],
   "source": []
  }
 ],
 "metadata": {
  "kernelspec": {
   "display_name": "Python 3 (ipykernel)",
   "language": "python",
   "name": "python3"
  },
  "language_info": {
   "codemirror_mode": {
    "name": "ipython",
    "version": 3
   },
   "file_extension": ".py",
   "mimetype": "text/x-python",
   "name": "python",
   "nbconvert_exporter": "python",
   "pygments_lexer": "ipython3",
   "version": "3.10.8"
  }
 },
 "nbformat": 4,
 "nbformat_minor": 5
}
