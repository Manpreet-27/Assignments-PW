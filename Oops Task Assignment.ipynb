{
 "cells": [
  {
   "cell_type": "markdown",
   "id": "580979a8-9c97-44ac-b858-0b5c03f1ced0",
   "metadata": {},
   "source": [
    "#OOPs Task Assigment"
   ]
  },
  {
   "cell_type": "markdown",
   "id": "4040a8b9-26cf-4e32-9a4d-7b6e66901463",
   "metadata": {},
   "source": [
    "Q1, Create a vehicle class with an init method having instance variables as name_of_vehicle, max_speed \n",
    "and average_of_vehicle."
   ]
  },
  {
   "cell_type": "code",
   "execution_count": 1,
   "id": "f60bee49-9fd3-4487-9689-8c2c54c65f3e",
   "metadata": {},
   "outputs": [],
   "source": [
    "class Vehicle:\n",
    "    def __init__(self, name_of_vehicle, max_speed, average_of_vehicle):\n",
    "        self.name = name_of_vehicle\n",
    "        self.speed = max_speed\n",
    "        self.avg = average_of_vehicle\n",
    "        \n",
    "    def vehicle_details(self):\n",
    "        return self.name, self.speed, self.avg"
   ]
  },
  {
   "cell_type": "code",
   "execution_count": 19,
   "id": "cf13f333-102b-442c-98dd-92e2cb7fadf7",
   "metadata": {},
   "outputs": [],
   "source": [
    "Lamborghini = Vehicle(\"Lamborghini_Aventador\", \"7.69kmph\", \"221mph\")"
   ]
  },
  {
   "cell_type": "code",
   "execution_count": 20,
   "id": "95d11ba2-32ac-410a-b482-6107893cab59",
   "metadata": {},
   "outputs": [
    {
     "data": {
      "text/plain": [
       "('Lamborghini_Aventador', '7.69kmph', '221mph')"
      ]
     },
     "execution_count": 20,
     "metadata": {},
     "output_type": "execute_result"
    }
   ],
   "source": [
    "Lamborghini.vehicle_details()"
   ]
  },
  {
   "cell_type": "code",
   "execution_count": null,
   "id": "3024dab8-5f65-49e9-a5ac-28ea6256f43e",
   "metadata": {},
   "outputs": [],
   "source": []
  },
  {
   "cell_type": "markdown",
   "id": "b7ae029b-7e2c-4a9b-b940-4e146f7e936d",
   "metadata": {},
   "source": [
    "Q2.  Create a child class car from the vehicle class created in Que 1, which will inherit the vehicle class. \n",
    "Create a method named seating_capacity which takes capacity as an argument and returns the name of \n",
    "the vehicle and its seating capacity."
   ]
  },
  {
   "cell_type": "code",
   "execution_count": 27,
   "id": "f7c650e1-9d9d-4b0c-9bbd-600fcbd88e93",
   "metadata": {},
   "outputs": [],
   "source": [
    "class Car(Vehicle):\n",
    "    def seating_capacity(self, capacity):\n",
    "        return \"The seating capacity of a\",self.name, \"is:\", capacity"
   ]
  },
  {
   "cell_type": "code",
   "execution_count": 28,
   "id": "2623d6b2-79b3-4936-81cb-22e813ecdc20",
   "metadata": {},
   "outputs": [],
   "source": [
    "Car = Car(\"Lamborghini_Aventador\", \"7.69kmph\", \"221mph\")"
   ]
  },
  {
   "cell_type": "code",
   "execution_count": 29,
   "id": "d9eb7da2-bade-427e-a1c6-92de23f08776",
   "metadata": {},
   "outputs": [
    {
     "data": {
      "text/plain": [
       "('The seating capacity of a', 'Lamborghini_Aventador', 'is:', 2)"
      ]
     },
     "execution_count": 29,
     "metadata": {},
     "output_type": "execute_result"
    }
   ],
   "source": [
    "Car.seating_capacity(2)"
   ]
  },
  {
   "cell_type": "code",
   "execution_count": null,
   "id": "0d14ce15-d64f-49ba-81e1-4627d3980cb0",
   "metadata": {},
   "outputs": [],
   "source": []
  },
  {
   "cell_type": "markdown",
   "id": "dd9825e3-c3e0-450d-9c24-c16d4f123927",
   "metadata": {},
   "source": [
    "Q3. What is multiple inheritance? Write a python code to demonstrate multiple inheritance."
   ]
  },
  {
   "cell_type": "markdown",
   "id": "1f456194-3d2a-487d-97fb-fc6ac3a37b2b",
   "metadata": {},
   "source": [
    "Multiple Inheritance: When a class can be derived from more than one base class this type of inheritance is called multiple inheritances. In multiple inheritances, all the features of the base classes (class1 and class2) are inherited into the derived class (class3). For example, A class Bat is derived from superclasses Mammal and WingedAnimal ."
   ]
  },
  {
   "cell_type": "code",
   "execution_count": 1,
   "id": "00baa71c-3f3a-4d39-b738-09f00960d7f6",
   "metadata": {},
   "outputs": [],
   "source": [
    "#Example for multiple inheritance:"
   ]
  },
  {
   "cell_type": "code",
   "execution_count": 10,
   "id": "73b35bf7-5a82-405f-b097-6454d6f2d72c",
   "metadata": {},
   "outputs": [],
   "source": [
    "class Mammal:\n",
    "    def winged_animal(self):\n",
    "        return \"This animal is Mammal\""
   ]
  },
  {
   "cell_type": "code",
   "execution_count": 11,
   "id": "79e85a9c-0ac2-47c0-9886-0ea3d40898cd",
   "metadata": {},
   "outputs": [],
   "source": [
    "class Winged_Animal:\n",
    "    def Mammal(self):\n",
    "        return \"It's a winged animal\""
   ]
  },
  {
   "cell_type": "code",
   "execution_count": 12,
   "id": "1552a1c4-cf58-4ca8-9590-ecd8d75e9b89",
   "metadata": {},
   "outputs": [],
   "source": [
    "class Bat(Mammal, Winged_Animal):\n",
    "    pass"
   ]
  },
  {
   "cell_type": "code",
   "execution_count": 13,
   "id": "6307b3c8-52e8-4909-bd84-ec9b7e5d00e4",
   "metadata": {},
   "outputs": [],
   "source": [
    "Bat = Bat()"
   ]
  },
  {
   "cell_type": "code",
   "execution_count": 14,
   "id": "06bdd21e-c88c-4219-a779-9c1775e40a92",
   "metadata": {},
   "outputs": [
    {
     "data": {
      "text/plain": [
       "'This animal is Mammal'"
      ]
     },
     "execution_count": 14,
     "metadata": {},
     "output_type": "execute_result"
    }
   ],
   "source": [
    "Bat.winged_animal()"
   ]
  },
  {
   "cell_type": "code",
   "execution_count": 15,
   "id": "bbd71de2-42a8-4498-9135-be447aac4c1d",
   "metadata": {},
   "outputs": [
    {
     "data": {
      "text/plain": [
       "\"It's a winged animal\""
      ]
     },
     "execution_count": 15,
     "metadata": {},
     "output_type": "execute_result"
    }
   ],
   "source": [
    "Bat.Mammal()"
   ]
  },
  {
   "cell_type": "code",
   "execution_count": null,
   "id": "e75e3eb1-ac0f-4132-9c5a-4d8383749e25",
   "metadata": {},
   "outputs": [],
   "source": []
  },
  {
   "cell_type": "markdown",
   "id": "13ffd682-3076-445d-83ba-3940bbdcf9cc",
   "metadata": {},
   "source": [
    "Q4. What are getter and setter in python? Create a class and create a getter and a setter method in this \n",
    "class."
   ]
  },
  {
   "cell_type": "markdown",
   "id": "8e759873-aad2-46ea-ba57-2b8687b7cf7a",
   "metadata": {},
   "source": [
    "Getter: A method that allows us to access an attribute in a given class. \n",
    "\n",
    "Setter: A method that allows us to set or mutate the value of an attribute in a class.\n",
    "\n",
    "Getters and Setters play an important role in retrieving and updating the value of a variable outside the encapsulating class. A setter updates the value of a variable, while a getter reads the value of a variable.\n",
    "To avoid direct access of a class field i.e. private variables cannot be accessed directly or modified by external user.\n",
    "\n",
    "To achieve getters & setters property, if we define normal get() and set() methods it will not reflect any special implementation. It acts as normal functions and doesn’t play any impact as getters and setters, to achieve such functionality Python has a special function property(). In Python property()is a built-in function that creates and returns a property object. A property object has three methods, getter(), setter(), and delete(). \n",
    "There is one more way to implement property function i.e. by using decorator. Python @property is one of the built-in decorators. "
   ]
  },
  {
   "cell_type": "code",
   "execution_count": 16,
   "id": "500476b4-092b-4b76-850e-18fb7d98c8f0",
   "metadata": {},
   "outputs": [],
   "source": [
    "#Example for getter"
   ]
  },
  {
   "cell_type": "code",
   "execution_count": 9,
   "id": "0161a7c2-b106-4f5f-8965-5e1ed9b5946d",
   "metadata": {},
   "outputs": [],
   "source": [
    "class girls:\n",
    "    def __init__(self, dress_price, dress_colour, dress_type):\n",
    "        self.__dress_price = dress_price #we are using double underscores to encapsulate it so that user can't access directly\n",
    "        self.__dress_colour = dress_colour\n",
    "        self.__dress_type = dress_type\n",
    "        \n",
    "    @property\n",
    "    def dress_price_access(self): #using property decorator and getter method to access data, not directly but by using getter\n",
    "        return self.__dress_price\n",
    "    \n",
    "    @property\n",
    "    def dress_colour_access(self): \n",
    "        return self.__dress_colour\n",
    "    \n",
    "    @property\n",
    "    def dress_type_access(self): \n",
    "        return self.__dress_type"
   ]
  },
  {
   "cell_type": "code",
   "execution_count": 57,
   "id": "c96fdb40-d2ee-4622-99d0-39319b8c9aa8",
   "metadata": {},
   "outputs": [],
   "source": [
    "clothing = girls(1500, \"Red\", \"Frock\")"
   ]
  },
  {
   "cell_type": "code",
   "execution_count": 58,
   "id": "c7de772b-1ceb-4d54-aa8b-c416ce28f507",
   "metadata": {},
   "outputs": [
    {
     "ename": "AttributeError",
     "evalue": "'girls' object has no attribute 'dress_price'",
     "output_type": "error",
     "traceback": [
      "\u001b[0;31m---------------------------------------------------------------------------\u001b[0m",
      "\u001b[0;31mAttributeError\u001b[0m                            Traceback (most recent call last)",
      "Cell \u001b[0;32mIn[58], line 1\u001b[0m\n\u001b[0;32m----> 1\u001b[0m \u001b[43mclothing\u001b[49m\u001b[38;5;241;43m.\u001b[39;49m\u001b[43mdress_price\u001b[49m   \u001b[38;5;66;03m#we can not access the method directly as we have encapsulated it\u001b[39;00m\n",
      "\u001b[0;31mAttributeError\u001b[0m: 'girls' object has no attribute 'dress_price'"
     ]
    }
   ],
   "source": [
    "clothing.dress_price   #we can not access the method directly as we have encapsulated it"
   ]
  },
  {
   "cell_type": "code",
   "execution_count": 59,
   "id": "d941cae4-8531-4ab7-89f7-db48ef0713a7",
   "metadata": {},
   "outputs": [
    {
     "data": {
      "text/plain": [
       "1500"
      ]
     },
     "execution_count": 59,
     "metadata": {},
     "output_type": "execute_result"
    }
   ],
   "source": [
    "clothing.dress_price_access  #we can use the method (written using property decorator) to access the method (not directly)"
   ]
  },
  {
   "cell_type": "code",
   "execution_count": 60,
   "id": "40301c0f-93b8-4c72-9f28-5d5f9120a5a9",
   "metadata": {},
   "outputs": [
    {
     "data": {
      "text/plain": [
       "'Red'"
      ]
     },
     "execution_count": 60,
     "metadata": {},
     "output_type": "execute_result"
    }
   ],
   "source": [
    "clothing.dress_colour_access"
   ]
  },
  {
   "cell_type": "code",
   "execution_count": 61,
   "id": "cd5ec192-9fe6-456d-9dc4-22c2d5659efb",
   "metadata": {},
   "outputs": [
    {
     "data": {
      "text/plain": [
       "'Frock'"
      ]
     },
     "execution_count": 61,
     "metadata": {},
     "output_type": "execute_result"
    }
   ],
   "source": [
    "clothing.dress_type_access"
   ]
  },
  {
   "cell_type": "code",
   "execution_count": 21,
   "id": "aff882f2-59d7-4f8e-97c6-d1e6b5c87dbc",
   "metadata": {},
   "outputs": [],
   "source": [
    "#Example for Setter:"
   ]
  },
  {
   "cell_type": "code",
   "execution_count": 26,
   "id": "decbf163-a3ec-44e5-b218-2ec5c1ffe097",
   "metadata": {},
   "outputs": [],
   "source": [
    "class clothing:\n",
    "    def __init__(self, dress_price, dress_colour, dress_type):\n",
    "        self.__dress_price = dress_price #we are using double underscores to encapsulate it so that user can't access directly\n",
    "        self.__dress_colour = dress_colour\n",
    "        self.__dress_type = dress_type\n",
    "        \n",
    "    @property\n",
    "    #getter\n",
    "    def dress_price_access(self): #using property decorator and getter method to access data, not directly but by using getter\n",
    "        return self.__dress_price\n",
    "    @property\n",
    "    def dress_colour_access(self): \n",
    "        return self.__dress_colour\n",
    "    \n",
    "    @property\n",
    "    def dress_type_access(self): \n",
    "        return self.__dress_type\n",
    "    \n",
    "    @dress_price_access.setter\n",
    "    #setter\n",
    "    def dress_price_set(self, price): #setter method to modify data\n",
    "        if price <= 1500:\n",
    "            pass\n",
    "        else:\n",
    "            self.__dress_price = price\n",
    "            \n",
    "    @dress_colour_access.setter\n",
    "    def dress_colour_set(self, colour): \n",
    "        if colour == colour:\n",
    "            self.__dress_colour = colour"
   ]
  },
  {
   "cell_type": "code",
   "execution_count": 27,
   "id": "df77dce0-098b-48a2-9ff3-7e1892cc56a9",
   "metadata": {},
   "outputs": [],
   "source": [
    "girls = clothing(1500, \"Red\", \"Frock\")"
   ]
  },
  {
   "cell_type": "code",
   "execution_count": 28,
   "id": "7f4498f1-1869-45ca-9adc-ab7bb171963f",
   "metadata": {},
   "outputs": [
    {
     "data": {
      "text/plain": [
       "'Red'"
      ]
     },
     "execution_count": 28,
     "metadata": {},
     "output_type": "execute_result"
    }
   ],
   "source": [
    "girls.dress_colour_access"
   ]
  },
  {
   "cell_type": "code",
   "execution_count": 29,
   "id": "60a7300e-fec7-4349-8d1b-0bbefb8585a1",
   "metadata": {},
   "outputs": [],
   "source": [
    "girls.dress_price_set = 2000"
   ]
  },
  {
   "cell_type": "code",
   "execution_count": 30,
   "id": "0479d79c-d4fd-47eb-accb-cf3b8f7a4f48",
   "metadata": {},
   "outputs": [
    {
     "data": {
      "text/plain": [
       "2000"
      ]
     },
     "execution_count": 30,
     "metadata": {},
     "output_type": "execute_result"
    }
   ],
   "source": [
    "girls.dress_price_access"
   ]
  },
  {
   "cell_type": "code",
   "execution_count": 31,
   "id": "f1ee8f2c-39fc-4022-b643-271531c8e70c",
   "metadata": {},
   "outputs": [],
   "source": [
    "girls.dress_colour_set = \"Black\""
   ]
  },
  {
   "cell_type": "code",
   "execution_count": 32,
   "id": "4a384f64-5641-446e-b9d5-cf556bb01967",
   "metadata": {},
   "outputs": [
    {
     "data": {
      "text/plain": [
       "'Black'"
      ]
     },
     "execution_count": 32,
     "metadata": {},
     "output_type": "execute_result"
    }
   ],
   "source": [
    "girls.dress_colour_access"
   ]
  },
  {
   "cell_type": "code",
   "execution_count": null,
   "id": "9f56813f-c0b5-4d56-88ad-929b1ab5b33a",
   "metadata": {},
   "outputs": [],
   "source": []
  },
  {
   "cell_type": "markdown",
   "id": "73f80d53-142b-4dfb-94f6-7afea5946c22",
   "metadata": {},
   "source": [
    "Q5.What is method overriding in python? Write a python code to demonstrate method overriding"
   ]
  },
  {
   "cell_type": "markdown",
   "id": "a8c67a7d-0f02-4311-92b4-42341fa46e57",
   "metadata": {},
   "source": [
    "Method overriding is an ability of any object-oriented programming language that allows a subclass or child class to provide a specific implementation of a method that is already provided by one of its super-classes or parent classes. When a method in a subclass has the same name, same parameters or signature and same return type(or sub-type) as a method in its super-class, then the method in the subclass is said to override the method in the super-class.\n",
    "\n",
    "The version of a method that is executed will be determined by the object that is used to invoke it. If an object of a parent class is used to invoke the method, then the version in the parent class will be executed, but if an object of the subclass is used to invoke the method, then the version in the child class will be executed. In other words, it is the type of the object being referred to (not the type of the reference variable) that determines which version of an overridden method will be executed."
   ]
  },
  {
   "cell_type": "code",
   "execution_count": 49,
   "id": "96aa2ef8-2711-4bb7-9305-b2de2b6bd679",
   "metadata": {},
   "outputs": [],
   "source": [
    "#Example for method overriding \n",
    "\n",
    "class House(): #Defining parent class\n",
    "    def __init__(self): #Constructor\n",
    "        self.value = \"Independent House\"\n",
    "    def display1(self):  #Parent class show method\n",
    "        print (self.value)"
   ]
  },
  {
   "cell_type": "code",
   "execution_count": 50,
   "id": "0982a61c-4c44-4e45-b491-4259e315c66c",
   "metadata": {},
   "outputs": [],
   "source": [
    "class Room(House):   #Defining child class \n",
    "    def __init__(self): # Constructor\n",
    "        self.value = \"4 Rooms in the House\"\n",
    "          \n",
    "    def display(self):   #Child class show method  \n",
    "        return self.value"
   ]
  },
  {
   "cell_type": "code",
   "execution_count": 51,
   "id": "aa33fb1d-f3f3-475e-b4b6-89a35e03432d",
   "metadata": {},
   "outputs": [],
   "source": [
    "living = House()"
   ]
  },
  {
   "cell_type": "code",
   "execution_count": 53,
   "id": "10531320-dcb2-4c16-8d4a-2d0cc19c36ea",
   "metadata": {},
   "outputs": [
    {
     "name": "stdout",
     "output_type": "stream",
     "text": [
      "Independent House\n"
     ]
    }
   ],
   "source": [
    "living.display1()"
   ]
  },
  {
   "cell_type": "code",
   "execution_count": 54,
   "id": "929a5d91-7356-4471-b800-59f5e390d654",
   "metadata": {},
   "outputs": [],
   "source": [
    "place = Room()"
   ]
  },
  {
   "cell_type": "code",
   "execution_count": 55,
   "id": "dbe9edd9-97c4-4cb2-af5a-a350618357b8",
   "metadata": {},
   "outputs": [
    {
     "data": {
      "text/plain": [
       "'4 Rooms in the House'"
      ]
     },
     "execution_count": 55,
     "metadata": {},
     "output_type": "execute_result"
    }
   ],
   "source": [
    "place.display()"
   ]
  },
  {
   "cell_type": "code",
   "execution_count": null,
   "id": "223c6e71-17df-46d8-ba66-7ade9b127d61",
   "metadata": {},
   "outputs": [],
   "source": []
  }
 ],
 "metadata": {
  "kernelspec": {
   "display_name": "Python 3 (ipykernel)",
   "language": "python",
   "name": "python3"
  },
  "language_info": {
   "codemirror_mode": {
    "name": "ipython",
    "version": 3
   },
   "file_extension": ".py",
   "mimetype": "text/x-python",
   "name": "python",
   "nbconvert_exporter": "python",
   "pygments_lexer": "ipython3",
   "version": "3.10.8"
  }
 },
 "nbformat": 4,
 "nbformat_minor": 5
}
