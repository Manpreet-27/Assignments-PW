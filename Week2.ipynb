{
 "cells": [
  {
   "cell_type": "markdown",
   "id": "5a19dd0d-6d9b-4b28-82e2-ea70505c2cf2",
   "metadata": {},
   "source": [
    "Q1. How do you comment code in Python? What are the different types of comments?"
   ]
  },
  {
   "cell_type": "markdown",
   "id": "3cf909fc-8eb2-4e52-93e4-ba5f96b0a099",
   "metadata": {},
   "source": [
    "*Comments in Python are identified with a hash symbol, #  and extend to the end of the line.*Makes the code easily understandable.*Helps remember why we used a specific command, method, or function in the code.\n",
    "There are three types of comments: single-line, multi-line, and docstring comments.\n",
    "i)Single-line: Single-line comments begin with the “#” character. Anything that is written in a single line after ‘#’ is considered as a comment.\n",
    "ii)*Multiline comments:Python does not support multi-line comments.The way is by using string literals but not assigning them to any variables. If we do not assign a string literal to a variable, the Python interpreter ignores it.\n",
    "iii)*Docstring: Python provides an in-built feature called docstrings for commenting on modules, methods, functions, objects, and classes. They are written in the first line after defining a module, function, method, etc. using three quotation marks (“”). If we do not use it in the first line, the interpreter will not take it as a docstring.\n"
   ]
  },
  {
   "cell_type": "code",
   "execution_count": null,
   "id": "b601717a-5ee2-4be3-b3fb-848f30d3d926",
   "metadata": {},
   "outputs": [],
   "source": []
  },
  {
   "cell_type": "markdown",
   "id": "f116d390-d56b-4205-8167-860810b8c69b",
   "metadata": {},
   "source": [
    "Q2. What are variables in Python? How do you declare and assign values to variables?"
   ]
  },
  {
   "cell_type": "markdown",
   "id": "9cd15d7c-2569-4947-86a4-a19688e22bf7",
   "metadata": {},
   "source": [
    "A variable is a string of characters and numbers associated with a piece of information. A variable is created when some value is assigned to it. \n",
    "Declare and assign values to variables:\n",
    "The value assigned to a variable determines the data type of that variable.Thus, declaring a variable in Python is very simple.\n",
    "i)Name the variable\n",
    "ii)Assign the required value to it.\n",
    "iii)The data type of the variable will be automatically determined from the value assigned, we need not define it explicitly.\n",
    "The assignment operator, denoted by the “=” symbol, is the operator that is used to assign values to variables in Python. \n"
   ]
  },
  {
   "cell_type": "code",
   "execution_count": 1,
   "id": "2d70d4c8-4a3b-4c39-aa6d-adffea2cbe6d",
   "metadata": {},
   "outputs": [],
   "source": [
    "a=3 #assignment operator is used to assign value and a is the variable, 3 is of type int."
   ]
  },
  {
   "cell_type": "code",
   "execution_count": 2,
   "id": "45e45282-e544-4e6b-bdac-3b064fdaae21",
   "metadata": {},
   "outputs": [
    {
     "data": {
      "text/plain": [
       "3"
      ]
     },
     "execution_count": 2,
     "metadata": {},
     "output_type": "execute_result"
    }
   ],
   "source": [
    "a"
   ]
  },
  {
   "cell_type": "code",
   "execution_count": 3,
   "id": "b27750f1-0aac-4bda-b9fe-9c91bf04877a",
   "metadata": {},
   "outputs": [
    {
     "data": {
      "text/plain": [
       "int"
      ]
     },
     "execution_count": 3,
     "metadata": {},
     "output_type": "execute_result"
    }
   ],
   "source": [
    "type(a)"
   ]
  },
  {
   "cell_type": "code",
   "execution_count": null,
   "id": "9dddfba9-c196-4b13-a58c-35d51f70e28c",
   "metadata": {},
   "outputs": [],
   "source": []
  },
  {
   "cell_type": "markdown",
   "id": "09da1a9a-4d70-4d48-b646-f8d3048e064a",
   "metadata": {},
   "source": [
    "Q3. How do you convert one data type to another in Python?"
   ]
  },
  {
   "cell_type": "markdown",
   "id": "69217f2f-1d78-4f4c-8d01-6b38159905b2",
   "metadata": {},
   "source": [
    "We can convert one data type to another by using predefined functions such as float(), int(), str(), etc. These predefined functions help us to perform Explicit Type conversion and do various operations on different objects.We can not convert int object into string. Example: we can convert complex numbers into real or imaginary numbers and later real numbers and imaginary numbers into float."
   ]
  },
  {
   "cell_type": "code",
   "execution_count": 4,
   "id": "ccdd5015-807e-4f15-9247-bcc5bf45c4ad",
   "metadata": {},
   "outputs": [],
   "source": [
    "a=7+8j"
   ]
  },
  {
   "cell_type": "code",
   "execution_count": 5,
   "id": "f4f62b54-875d-4aa0-9711-198995a8c370",
   "metadata": {},
   "outputs": [
    {
     "data": {
      "text/plain": [
       "(7+8j)"
      ]
     },
     "execution_count": 5,
     "metadata": {},
     "output_type": "execute_result"
    }
   ],
   "source": [
    "a"
   ]
  },
  {
   "cell_type": "code",
   "execution_count": 7,
   "id": "08a25b93-1ea8-474a-aad9-2a3bf4b16bc0",
   "metadata": {},
   "outputs": [
    {
     "data": {
      "text/plain": [
       "complex"
      ]
     },
     "execution_count": 7,
     "metadata": {},
     "output_type": "execute_result"
    }
   ],
   "source": [
    "type(a)"
   ]
  },
  {
   "cell_type": "code",
   "execution_count": 8,
   "id": "71bf9ab2-f32d-4a8d-8a6e-0bbfcddd7dab",
   "metadata": {},
   "outputs": [
    {
     "data": {
      "text/plain": [
       "7.0"
      ]
     },
     "execution_count": 8,
     "metadata": {},
     "output_type": "execute_result"
    }
   ],
   "source": [
    "a.real"
   ]
  },
  {
   "cell_type": "code",
   "execution_count": 9,
   "id": "30395d58-f90b-48a4-9863-a5aecaa2af58",
   "metadata": {},
   "outputs": [
    {
     "data": {
      "text/plain": [
       "float"
      ]
     },
     "execution_count": 9,
     "metadata": {},
     "output_type": "execute_result"
    }
   ],
   "source": [
    "type(a.real)"
   ]
  },
  {
   "cell_type": "code",
   "execution_count": 10,
   "id": "daad7da7-24a9-4bc6-ab9b-105316759885",
   "metadata": {},
   "outputs": [
    {
     "data": {
      "text/plain": [
       "8.0"
      ]
     },
     "execution_count": 10,
     "metadata": {},
     "output_type": "execute_result"
    }
   ],
   "source": [
    "a.imag"
   ]
  },
  {
   "cell_type": "code",
   "execution_count": 11,
   "id": "0503a691-73f4-4a46-8d3b-a21debadd834",
   "metadata": {},
   "outputs": [
    {
     "data": {
      "text/plain": [
       "float"
      ]
     },
     "execution_count": 11,
     "metadata": {},
     "output_type": "execute_result"
    }
   ],
   "source": [
    "type(a.imag)"
   ]
  },
  {
   "cell_type": "code",
   "execution_count": null,
   "id": "ec8cc61c-5adc-4cbb-8d00-97882d2a0aaf",
   "metadata": {},
   "outputs": [],
   "source": []
  },
  {
   "cell_type": "markdown",
   "id": "a3ee855e-2f57-4b42-86a3-9a17e747a139",
   "metadata": {},
   "source": [
    "Q4. How do you write and execute a Python script from the command line?"
   ]
  },
  {
   "cell_type": "markdown",
   "id": "5b78cd89-862c-4188-ba02-f96d356942ba",
   "metadata": {},
   "source": [
    "How to write a Python script?\n",
    "There are 2 versions of python: 2x and 3x, we are using the latest one that is 3x for our course. We write scripts usually as an ordinary plain text file and then save it with the extension .py to add python instructions. But we are using Jupyter notebook from pwskills lab to practice the coding, so here we use .ipynb ectension to save a file.Scripts often make use of Python modules, which contain external functions, classes, and variables.The python interpreter lets us write and execute code line by line.\n",
    "\n",
    "*To execute Python Scripts from the Command Line:\n",
    "In Python programming, we write programs in plain text files.We write scripts usually as an ordinary plain text file and then save it with the extension .py to add python instructions. But we are using Jupyter notebook from pwskills lab to practice the coding, so here we use .ipynb ectension to save a file. We can also use any Python-friendly code editor or IDE (integrated development environment)."
   ]
  },
  {
   "cell_type": "code",
   "execution_count": null,
   "id": "e9008d30-dc1c-487a-b36a-2be808aa74de",
   "metadata": {},
   "outputs": [],
   "source": []
  },
  {
   "cell_type": "markdown",
   "id": "d2771662-bd0d-49c4-b592-98e611631017",
   "metadata": {},
   "source": [
    "Q5. Given a list my_list = [1, 2, 3, 4, 5], write the code to slice the list and obtain the sub-list [2, 3]."
   ]
  },
  {
   "cell_type": "code",
   "execution_count": 1,
   "id": "6fe31626-6687-4bc9-b064-1991e4977808",
   "metadata": {},
   "outputs": [],
   "source": [
    "my_list = [1,2,3,4,5]"
   ]
  },
  {
   "cell_type": "code",
   "execution_count": 4,
   "id": "57facfe2-bc25-4117-ac5e-663186589a53",
   "metadata": {},
   "outputs": [
    {
     "data": {
      "text/plain": [
       "[2, 3]"
      ]
     },
     "execution_count": 4,
     "metadata": {},
     "output_type": "execute_result"
    }
   ],
   "source": [
    "my_list[1:3] #To obtain sub-list "
   ]
  },
  {
   "cell_type": "code",
   "execution_count": null,
   "id": "5e8f1ad6-cc53-4dad-ae5b-a4f1949656d1",
   "metadata": {},
   "outputs": [],
   "source": []
  },
  {
   "cell_type": "markdown",
   "id": "bda96ebe-48aa-4272-9f73-0b2724cc2abd",
   "metadata": {},
   "source": [
    "Q6. What is a complex number in mathematics, and how is it represented in Python?"
   ]
  },
  {
   "cell_type": "markdown",
   "id": "05dc7a7d-9e3b-43d0-994d-0acabbcf8f71",
   "metadata": {},
   "source": [
    "In mathematics Complex numbers are the numbers that are expressed in the form of a+ib where, a,b are real numbers and 'i' is an imaginary number called “iota”. The value of i = (√-1). For example, 2+3i is a complex number, where 2 is a real number (Re) and 3i is an imaginary number (Im).\n",
    "\n",
    "*How complex numbers are represented in python:\n",
    "Complex numbers are nothing but combination of real and imaginary numbers. In python complex is a data type, which is executed only when 'j' is written along with imaginary number, if any alphabet except j is written, then the code will not be executed and we will get an error. "
   ]
  },
  {
   "cell_type": "code",
   "execution_count": 5,
   "id": "992a8702-4ed2-4514-abe8-2b4a45ba4625",
   "metadata": {},
   "outputs": [],
   "source": [
    "f=5+7j"
   ]
  },
  {
   "cell_type": "code",
   "execution_count": 6,
   "id": "aa5695d6-0d8f-4d47-ae56-aa6957571aa0",
   "metadata": {},
   "outputs": [
    {
     "data": {
      "text/plain": [
       "complex"
      ]
     },
     "execution_count": 6,
     "metadata": {},
     "output_type": "execute_result"
    }
   ],
   "source": [
    "type(f)"
   ]
  },
  {
   "cell_type": "code",
   "execution_count": 7,
   "id": "4c3bfb08-0b09-4151-81bc-bc81a4f110c1",
   "metadata": {},
   "outputs": [
    {
     "data": {
      "text/plain": [
       "5.0"
      ]
     },
     "execution_count": 7,
     "metadata": {},
     "output_type": "execute_result"
    }
   ],
   "source": [
    "f.real"
   ]
  },
  {
   "cell_type": "code",
   "execution_count": 8,
   "id": "f49804ae-336f-4038-8afe-a28aa932ecc4",
   "metadata": {},
   "outputs": [
    {
     "data": {
      "text/plain": [
       "7.0"
      ]
     },
     "execution_count": 8,
     "metadata": {},
     "output_type": "execute_result"
    }
   ],
   "source": [
    "f.imag"
   ]
  },
  {
   "cell_type": "code",
   "execution_count": 9,
   "id": "d1627a07-243d-4926-9455-99366ee1e1c3",
   "metadata": {},
   "outputs": [
    {
     "ename": "SyntaxError",
     "evalue": "invalid decimal literal (1553694226.py, line 1)",
     "output_type": "error",
     "traceback": [
      "\u001b[0;36m  Cell \u001b[0;32mIn[9], line 1\u001b[0;36m\u001b[0m\n\u001b[0;31m    c=4+2b\u001b[0m\n\u001b[0m        ^\u001b[0m\n\u001b[0;31mSyntaxError\u001b[0m\u001b[0;31m:\u001b[0m invalid decimal literal\n"
     ]
    }
   ],
   "source": [
    "c=4+2b #if we use any other alphabet except j"
   ]
  },
  {
   "cell_type": "code",
   "execution_count": null,
   "id": "3c413cd0-848d-4836-80df-2b989ed6c32d",
   "metadata": {},
   "outputs": [],
   "source": []
  },
  {
   "cell_type": "markdown",
   "id": "1a08f373-c64d-410e-b2d0-f4b238136b34",
   "metadata": {},
   "source": [
    "Q7. What is the correct way to declare a variable named age and assign the value 25 to it?"
   ]
  },
  {
   "cell_type": "markdown",
   "id": "539d4920-8e91-41be-ae3a-f3a2c75674df",
   "metadata": {},
   "source": [
    "A variable name can not be defined by numerics, alpha numeric or special characters. Only alphabets and an underscore before alphabets can be used to define a variable. "
   ]
  },
  {
   "cell_type": "code",
   "execution_count": 10,
   "id": "4e651bd8-9aef-470a-ba21-9e686ca050f5",
   "metadata": {},
   "outputs": [],
   "source": [
    "age=25"
   ]
  },
  {
   "cell_type": "code",
   "execution_count": 11,
   "id": "f12a40e3-0cf5-4e33-86f8-0295bea5efe8",
   "metadata": {},
   "outputs": [
    {
     "data": {
      "text/plain": [
       "25"
      ]
     },
     "execution_count": 11,
     "metadata": {},
     "output_type": "execute_result"
    }
   ],
   "source": [
    "age"
   ]
  },
  {
   "cell_type": "code",
   "execution_count": 12,
   "id": "47f1085f-b73f-4118-8263-4e02cc9cc4fd",
   "metadata": {},
   "outputs": [],
   "source": [
    "_age=25"
   ]
  },
  {
   "cell_type": "code",
   "execution_count": 13,
   "id": "d6e913f1-6315-4d58-a81f-a2dec56c4e41",
   "metadata": {},
   "outputs": [
    {
     "data": {
      "text/plain": [
       "25"
      ]
     },
     "execution_count": 13,
     "metadata": {},
     "output_type": "execute_result"
    }
   ],
   "source": [
    "_age"
   ]
  },
  {
   "cell_type": "code",
   "execution_count": null,
   "id": "95ddbd36-fed9-46c4-b304-1095b22a47b7",
   "metadata": {},
   "outputs": [],
   "source": []
  },
  {
   "cell_type": "markdown",
   "id": "c73f70ef-d656-469f-88ba-90e81e14e5cd",
   "metadata": {},
   "source": [
    "Q8. Declare a variable named price and assign the value 9.99 to it. What data type does this variable \n",
    "belong to?"
   ]
  },
  {
   "cell_type": "markdown",
   "id": "c0e943cf-ba99-4156-883a-6fa4e521633d",
   "metadata": {},
   "source": [
    "The variable named price belongs to float data type."
   ]
  },
  {
   "cell_type": "code",
   "execution_count": 14,
   "id": "5e8e4385-d0ae-486c-b866-6c56bc0e1a63",
   "metadata": {},
   "outputs": [],
   "source": [
    "price=9.999"
   ]
  },
  {
   "cell_type": "code",
   "execution_count": 15,
   "id": "37beb83b-aab2-420a-8bfa-fc05cfd43e3c",
   "metadata": {},
   "outputs": [
    {
     "data": {
      "text/plain": [
       "float"
      ]
     },
     "execution_count": 15,
     "metadata": {},
     "output_type": "execute_result"
    }
   ],
   "source": [
    "type(price)"
   ]
  },
  {
   "cell_type": "code",
   "execution_count": null,
   "id": "8f9c4e7d-b802-49bd-9159-f95c6eaf04f3",
   "metadata": {},
   "outputs": [],
   "source": []
  },
  {
   "cell_type": "markdown",
   "id": "edec51ba-9f51-4a87-8736-c1902f39bc76",
   "metadata": {},
   "source": [
    "Q9. Create a variable named name and assign your full name to it as a string. How would you print the \n",
    "value of this variable?"
   ]
  },
  {
   "cell_type": "code",
   "execution_count": 16,
   "id": "3e44e572-c794-44af-853c-06e54c926705",
   "metadata": {},
   "outputs": [],
   "source": [
    "name=\"Manpreet Kaur D. Pothiwal\""
   ]
  },
  {
   "cell_type": "code",
   "execution_count": 17,
   "id": "b1d358e0-5cc5-4ea2-b804-c37c3e574669",
   "metadata": {},
   "outputs": [
    {
     "data": {
      "text/plain": [
       "str"
      ]
     },
     "execution_count": 17,
     "metadata": {},
     "output_type": "execute_result"
    }
   ],
   "source": [
    "type(name)"
   ]
  },
  {
   "cell_type": "code",
   "execution_count": 18,
   "id": "72de89ff-9c73-4509-95ba-9d0a783bf1d6",
   "metadata": {},
   "outputs": [
    {
     "data": {
      "text/plain": [
       "'Manpreet Kaur D. Pothiwal'"
      ]
     },
     "execution_count": 18,
     "metadata": {},
     "output_type": "execute_result"
    }
   ],
   "source": [
    "name  #to print the value of the variable"
   ]
  },
  {
   "cell_type": "code",
   "execution_count": null,
   "id": "d6583c9a-3d14-4a9f-917b-ee3473cda5af",
   "metadata": {},
   "outputs": [],
   "source": []
  },
  {
   "cell_type": "markdown",
   "id": "4654766b-d6cb-44c6-b94b-375795755fb9",
   "metadata": {},
   "source": [
    "Q10. Given the string \"Hello, World!\", extract the substring \"World\"."
   ]
  },
  {
   "cell_type": "code",
   "execution_count": 19,
   "id": "1e31c419-fe7d-4d30-8d7a-7bacf442609c",
   "metadata": {},
   "outputs": [],
   "source": [
    "s=\"Hello World!\""
   ]
  },
  {
   "cell_type": "code",
   "execution_count": 20,
   "id": "8252549b-6e5b-4f51-9fe9-f4573aff1372",
   "metadata": {},
   "outputs": [
    {
     "data": {
      "text/plain": [
       "str"
      ]
     },
     "execution_count": 20,
     "metadata": {},
     "output_type": "execute_result"
    }
   ],
   "source": [
    "type(s)"
   ]
  },
  {
   "cell_type": "code",
   "execution_count": 24,
   "id": "1b424625-3e7f-4b5e-ae60-31c818e1c326",
   "metadata": {},
   "outputs": [
    {
     "data": {
      "text/plain": [
       "'World!'"
      ]
     },
     "execution_count": 24,
     "metadata": {},
     "output_type": "execute_result"
    }
   ],
   "source": [
    "s[6:13]"
   ]
  },
  {
   "cell_type": "markdown",
   "id": "4f49408a-c03b-4be0-b043-cd8619eabf0e",
   "metadata": {},
   "source": []
  },
  {
   "cell_type": "markdown",
   "id": "4e69ab52-c7ce-4bd0-9587-2b0fa4c37bfb",
   "metadata": {},
   "source": [
    "Q11. Create a variable named \"is_student\" and assign it a boolean value indicating whether you are \n",
    "currently a student or not."
   ]
  },
  {
   "cell_type": "code",
   "execution_count": 25,
   "id": "dd04df6e-fa58-4039-a8da-3f75fbd04573",
   "metadata": {},
   "outputs": [],
   "source": [
    "is_student=True"
   ]
  },
  {
   "cell_type": "code",
   "execution_count": 26,
   "id": "592d5e94-4f9c-4322-b4db-0ef0e3f6af46",
   "metadata": {},
   "outputs": [
    {
     "data": {
      "text/plain": [
       "bool"
      ]
     },
     "execution_count": 26,
     "metadata": {},
     "output_type": "execute_result"
    }
   ],
   "source": [
    "type(is_student)"
   ]
  },
  {
   "cell_type": "code",
   "execution_count": 27,
   "id": "e60eed6f-1b7c-4e09-90c9-3b6d1aecbc32",
   "metadata": {},
   "outputs": [
    {
     "data": {
      "text/plain": [
       "True"
      ]
     },
     "execution_count": 27,
     "metadata": {},
     "output_type": "execute_result"
    }
   ],
   "source": [
    "is_student  #indicates currently I am a student."
   ]
  },
  {
   "cell_type": "code",
   "execution_count": null,
   "id": "b4e1c6f3-687d-4bea-b0bd-a79471137a18",
   "metadata": {},
   "outputs": [],
   "source": []
  }
 ],
 "metadata": {
  "kernelspec": {
   "display_name": "Python 3 (ipykernel)",
   "language": "python",
   "name": "python3"
  },
  "language_info": {
   "codemirror_mode": {
    "name": "ipython",
    "version": 3
   },
   "file_extension": ".py",
   "mimetype": "text/x-python",
   "name": "python",
   "nbconvert_exporter": "python",
   "pygments_lexer": "ipython3",
   "version": "3.10.8"
  }
 },
 "nbformat": 4,
 "nbformat_minor": 5
}
