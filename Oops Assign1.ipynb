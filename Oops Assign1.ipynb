{
 "cells": [
  {
   "cell_type": "code",
   "execution_count": 1,
   "id": "664301de-f3b1-4769-b7be-d8a9d85a1528",
   "metadata": {},
   "outputs": [],
   "source": [
    "#OOPs Assignment 1"
   ]
  },
  {
   "cell_type": "markdown",
   "id": "b0029ddb-b1fb-4693-8a23-f06165647127",
   "metadata": {},
   "source": [
    "Q1. Explain Class and Object with respect to Object-Oriented Programming. Give a suitable example."
   ]
  },
  {
   "cell_type": "markdown",
   "id": "4d4ad4da-dca4-4b7d-be25-1c5deee4b1f4",
   "metadata": {},
   "source": [
    "Class:\n",
    "    A class is a user-defined data type that contains both the data itself and the methods that may be used to manipulate it.\n",
    "    It is a user-defined blueprint or prototype from which objects are created. In simple words it is a classification of real world entity.Classes provide a means of bundling data and functionality together. Creating a new class creates a new type of object, allowing new instances of that type to be made. Each class instance can have attributes attached to it for maintaining its state. Class instances can also have methods (defined by their class) for modifying their state."
   ]
  },
  {
   "cell_type": "code",
   "execution_count": 4,
   "id": "5ee7b104-4f43-4ee5-bea6-b05f21ebdc96",
   "metadata": {},
   "outputs": [],
   "source": [
    "#Example for Class\n",
    "#Blank class-\n",
    "class test:\n",
    "    pass\n"
   ]
  },
  {
   "cell_type": "code",
   "execution_count": 5,
   "id": "76b4d51d-b92a-4062-ac19-bfe9485b2e8e",
   "metadata": {},
   "outputs": [
    {
     "name": "stdout",
     "output_type": "stream",
     "text": [
      "<class '__main__.test'>\n"
     ]
    }
   ],
   "source": [
    "a=test()\n",
    "print(type(a))"
   ]
  },
  {
   "cell_type": "code",
   "execution_count": 8,
   "id": "6d1273fb-fa83-4d25-9a6f-23b5d22fb52b",
   "metadata": {},
   "outputs": [],
   "source": [
    "#Example to store the method or function in a class or to create a variable within it.\n",
    "class Student:\n",
    "    def welcome_msg(self): #here self is a pointer \n",
    "        print(\"Welcome student\")"
   ]
  },
  {
   "cell_type": "code",
   "execution_count": 9,
   "id": "b2960ef8-b082-4258-8480-fee555d3a44f",
   "metadata": {},
   "outputs": [
    {
     "name": "stdout",
     "output_type": "stream",
     "text": [
      "<class '__main__.Student'>\n"
     ]
    }
   ],
   "source": [
    "Neha=Student()   \n",
    "print(type(Neha))"
   ]
  },
  {
   "cell_type": "code",
   "execution_count": 10,
   "id": "fd4043fa-3cb5-4b12-9a1c-5d2c9c4c05c5",
   "metadata": {},
   "outputs": [
    {
     "name": "stdout",
     "output_type": "stream",
     "text": [
      "Welcome student\n"
     ]
    }
   ],
   "source": [
    "Neha.welcome_msg() #calling the defined method to display the message"
   ]
  },
  {
   "cell_type": "markdown",
   "id": "f4c484e6-9bb4-4a21-9603-bf25ceb353b1",
   "metadata": {},
   "source": [
    "Object: Everything is in Python treated as an object, including variable, function, list, tuple, dictionary, set, etc. Every object belongs to its class. For example - An integer variable belongs to integer class. An object is a real-life entity."
   ]
  },
  {
   "cell_type": "code",
   "execution_count": 18,
   "id": "cb9ede27-a5a8-4ca6-a44d-d49144d0667e",
   "metadata": {},
   "outputs": [],
   "source": [
    "#Example:\n",
    "class Pets:\n",
    "    def msg_to_pet(self): #here self is a pointer \n",
    "        print(\"Hello tommy! the dog\")"
   ]
  },
  {
   "cell_type": "code",
   "execution_count": 32,
   "id": "eede58f5-c151-4e0f-8cb8-543f90d8c3d8",
   "metadata": {},
   "outputs": [
    {
     "name": "stdout",
     "output_type": "stream",
     "text": [
      "<class '__main__.Pets'>\n"
     ]
    }
   ],
   "source": [
    "Tommy=Pets()   #Pets is an object here\n",
    "print(type(Tommy))"
   ]
  },
  {
   "cell_type": "code",
   "execution_count": 20,
   "id": "a42239c2-aaa9-45ba-8334-f9533817e790",
   "metadata": {},
   "outputs": [
    {
     "name": "stdout",
     "output_type": "stream",
     "text": [
      "Hello tommy! the dog\n"
     ]
    }
   ],
   "source": [
    "Tommy.msg_to_pet()"
   ]
  },
  {
   "cell_type": "code",
   "execution_count": null,
   "id": "ab7576ca-4940-4a9d-baf9-a7ae37b1a61c",
   "metadata": {},
   "outputs": [],
   "source": []
  },
  {
   "cell_type": "markdown",
   "id": "a905770d-1265-4caa-837d-61b138474aeb",
   "metadata": {},
   "source": [
    "Q2. Name the four pillars of OOPs."
   ]
  },
  {
   "cell_type": "markdown",
   "id": "9daa65e6-72c4-4404-a791-29428158a9ea",
   "metadata": {},
   "source": [
    "There are four pillars of OOPs: Polymorphism, Encapsulation, Abstraction and Inheritance.\n",
    "\n",
    "1)Polymorphism: used to create multiple methods with the same name, but with different implementations. This makes it easier to create flexible systems that are easier to understand and maintain.\n",
    "\n",
    "2)Encapsulation: when we want to protet our data and do not want to display the instances of our code so that the user should not be able to modify it we use encapsulation. It is a way to keep code organized and separate from other codes in the system. It is done by using classes that contain all the code related to a specific feature or subject.\n",
    "\n",
    "3)Abstraction is the process of hiding internal details or processes from the user. This is done by creating classes that represent real-world objects and their attributes.\n",
    "\n",
    "4)Inheritance is when a class inherits the methods and properties of another class. This allows developers to reuse code and easily add new features."
   ]
  },
  {
   "cell_type": "code",
   "execution_count": null,
   "id": "866cd885-ce70-496c-b698-df93706cada2",
   "metadata": {},
   "outputs": [],
   "source": []
  },
  {
   "cell_type": "markdown",
   "id": "86e2b306-9024-4e7a-bbaf-5c9c4abdc2a4",
   "metadata": {},
   "source": [
    "Q3. Explain why the __init__() function is used. Give a suitable example."
   ]
  },
  {
   "cell_type": "markdown",
   "id": "c3cf61da-155b-42b1-b160-146c3205c9fb",
   "metadata": {},
   "source": [
    "init: init is an inbuilt function in python, known as initialization.To call the init function we write 2 underscores both back and frontside of init \"__init__\". The __init__ function is called every time an object is created from a class. The __init__ method lets the class initialize the object's attributes and serves no other purpose."
   ]
  },
  {
   "cell_type": "code",
   "execution_count": 94,
   "id": "b2850599-b801-4863-a2f5-b026e443d368",
   "metadata": {},
   "outputs": [],
   "source": [
    "#Example:\n",
    "class stud_details:\n",
    "    def __init__(self, stud_name, student_id, phone_num, email_id):\n",
    "        self.stud_name = stud_name\n",
    "        self.student_id = student_id\n",
    "        self.phone_num = phone_num\n",
    "        self.email_id = email_id\n",
    "        \n",
    "    def return_stud_details(self):\n",
    "        return self.stud_name, self.student_id, self.phone_num, self.email_id"
   ]
  },
  {
   "cell_type": "code",
   "execution_count": 95,
   "id": "c9218a85-e72a-4d41-8530-e8a2827c4046",
   "metadata": {},
   "outputs": [],
   "source": [
    "Stud1 = stud_details(\"Neha\",101,982765490,\"neha@gmail.com\")"
   ]
  },
  {
   "cell_type": "code",
   "execution_count": 98,
   "id": "79793cb9-f2e1-4e68-975f-512aeade82e5",
   "metadata": {},
   "outputs": [
    {
     "data": {
      "text/plain": [
       "('Neha', 101, 982765490, 'neha@gmail.com')"
      ]
     },
     "execution_count": 98,
     "metadata": {},
     "output_type": "execute_result"
    }
   ],
   "source": [
    "Stud1.return_stud_details()"
   ]
  },
  {
   "cell_type": "code",
   "execution_count": null,
   "id": "7371bd0f-fc2f-4991-a586-ec57c551c88c",
   "metadata": {},
   "outputs": [],
   "source": []
  },
  {
   "cell_type": "markdown",
   "id": "86fae3df-5482-4a0f-b011-2770e450c526",
   "metadata": {},
   "source": [
    "Q4. Why self is used in OOPs?\n"
   ]
  },
  {
   "cell_type": "markdown",
   "id": "2acd8838-e45a-4648-93eb-2610028aafc8",
   "metadata": {},
   "source": [
    "The “self” keyword represents the instance of the class. By using the “self” keyword, we can access the attributes and methods of the class. It is useful in method definitions and in variable initialization. The “self” is explicitly used every time we define a method. Self is a pointer works as a reference for the instance of the class, hence it is not a reserved keyword, we can use any other keyword in place of self."
   ]
  },
  {
   "cell_type": "code",
   "execution_count": null,
   "id": "f4b33c76-c642-40d8-83d9-b93d8b30fdeb",
   "metadata": {},
   "outputs": [],
   "source": []
  },
  {
   "cell_type": "markdown",
   "id": "5718c8c3-b1e5-47df-9c75-d80864385b21",
   "metadata": {},
   "source": [
    "Q5. What is inheritance? Give an example for each type of inheritance."
   ]
  },
  {
   "cell_type": "markdown",
   "id": "893a938d-141f-492f-8172-638a89a09306",
   "metadata": {},
   "source": [
    "Inheritance: it allows us to define a class that inherits all the methods and properties from another class.\n",
    "Parent class is the class being inherited from, also called base class.\n",
    "Child class is the class that inherits from another class, also called derived class.\n",
    "There are 3 types of inheritance: 1)Single Inheritance, 2)Multilevel Inheritance, 3)Multiple Inheritance\n"
   ]
  },
  {
   "cell_type": "markdown",
   "id": "cbc9ca77-18ff-4b8d-967b-fcfe5bec120a",
   "metadata": {},
   "source": [
    "Single Inheritance: \n",
    "Single inheritance enables a derived class to inherit properties from a single parent class, thus enabling code reusability and the addition of new features to existing code."
   ]
  },
  {
   "cell_type": "code",
   "execution_count": 7,
   "id": "5577951f-0f53-4727-b78f-ec6ae3fd2dec",
   "metadata": {},
   "outputs": [],
   "source": [
    "#Example for single inheritance:\n",
    "class parent:\n",
    "    def parent_meth(self):\n",
    "        return \"This is my parent class\""
   ]
  },
  {
   "cell_type": "code",
   "execution_count": 3,
   "id": "6ce7f8fd-d739-4cc9-a986-05f729b87047",
   "metadata": {},
   "outputs": [],
   "source": [
    "class child(parent):\n",
    "    pass"
   ]
  },
  {
   "cell_type": "code",
   "execution_count": 4,
   "id": "fa5f7685-a862-475f-9513-a48040f9519a",
   "metadata": {},
   "outputs": [],
   "source": [
    "child_obj = child()"
   ]
  },
  {
   "cell_type": "code",
   "execution_count": 6,
   "id": "7d6886c8-fc1b-482f-8338-db5606cec79a",
   "metadata": {},
   "outputs": [
    {
     "data": {
      "text/plain": [
       "'This is my parent class'"
      ]
     },
     "execution_count": 6,
     "metadata": {},
     "output_type": "execute_result"
    }
   ],
   "source": [
    "child_obj.parent_meth()   #child class inheriting the method of parent class"
   ]
  },
  {
   "cell_type": "markdown",
   "id": "62164b84-72dd-43c4-a9f3-e5d49320a2e8",
   "metadata": {},
   "source": [
    "Multiple Inheritance: When a class can be derived from more than one base class this type of inheritance is called multiple inheritances. In multiple inheritances, all the features of the base classes (class1 and class2) are inherited into the derived class (class3). "
   ]
  },
  {
   "cell_type": "code",
   "execution_count": 13,
   "id": "02593520-ae1e-4e8b-9892-40d79af5e641",
   "metadata": {},
   "outputs": [],
   "source": [
    "class father:\n",
    "    def dad(self):\n",
    "        return \"Child is son of Mr.Kapoor\""
   ]
  },
  {
   "cell_type": "code",
   "execution_count": 14,
   "id": "a9140538-9182-4fe0-a0af-fba7bc7bf6f4",
   "metadata": {},
   "outputs": [],
   "source": [
    "class mother:\n",
    "    def mom(self):\n",
    "        return \"Child is son of Mrs.Kapoor\""
   ]
  },
  {
   "cell_type": "code",
   "execution_count": 17,
   "id": "2e193e02-d82a-4f4a-a787-68afb540b2cc",
   "metadata": {},
   "outputs": [],
   "source": [
    "class child(father,mother):\n",
    "    pass"
   ]
  },
  {
   "cell_type": "code",
   "execution_count": 18,
   "id": "38e2d522-a649-4d6e-9403-1cbb46777389",
   "metadata": {},
   "outputs": [],
   "source": [
    "obj_child = child()"
   ]
  },
  {
   "cell_type": "code",
   "execution_count": 19,
   "id": "66871298-ba85-4bd5-b59e-26f77e70fabc",
   "metadata": {},
   "outputs": [
    {
     "data": {
      "text/plain": [
       "'Child is son of Mr.Kapoor'"
      ]
     },
     "execution_count": 19,
     "metadata": {},
     "output_type": "execute_result"
    }
   ],
   "source": [
    "obj_child.dad()"
   ]
  },
  {
   "cell_type": "code",
   "execution_count": 21,
   "id": "5e4b6dc5-1b4a-4efe-b070-e37276ab70c4",
   "metadata": {},
   "outputs": [
    {
     "data": {
      "text/plain": [
       "'Child is son of Mrs.Kapoor'"
      ]
     },
     "execution_count": 21,
     "metadata": {},
     "output_type": "execute_result"
    }
   ],
   "source": [
    "obj_child.mom()"
   ]
  },
  {
   "cell_type": "code",
   "execution_count": null,
   "id": "29e41034-8cad-4c94-a5ad-7a5f52f34241",
   "metadata": {},
   "outputs": [],
   "source": []
  }
 ],
 "metadata": {
  "kernelspec": {
   "display_name": "Python 3 (ipykernel)",
   "language": "python",
   "name": "python3"
  },
  "language_info": {
   "codemirror_mode": {
    "name": "ipython",
    "version": 3
   },
   "file_extension": ".py",
   "mimetype": "text/x-python",
   "name": "python",
   "nbconvert_exporter": "python",
   "pygments_lexer": "ipython3",
   "version": "3.10.8"
  }
 },
 "nbformat": 4,
 "nbformat_minor": 5
}
