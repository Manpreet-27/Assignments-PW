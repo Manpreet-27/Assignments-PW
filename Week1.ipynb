{
 "cells": [
  {
   "cell_type": "code",
   "execution_count": 1,
   "id": "dbe39611-2feb-45a8-9033-3619909acd95",
   "metadata": {},
   "outputs": [],
   "source": [
    "#Week 1 Assignment 1"
   ]
  },
  {
   "cell_type": "markdown",
   "id": "a54d10b8-a972-4a2d-b3a3-8bba0bffc2f4",
   "metadata": {},
   "source": [
    "Q1.Create one variable containing following type of data:\n",
    "i.string \n",
    "ii.list\n",
    "iii.float\n",
    "iv. tuple"
   ]
  },
  {
   "cell_type": "code",
   "execution_count": 3,
   "id": "359d396f-e723-443d-8825-e5c4e0fd65c7",
   "metadata": {},
   "outputs": [],
   "source": [
    "#String"
   ]
  },
  {
   "cell_type": "code",
   "execution_count": 19,
   "id": "43f627df-ff85-45d6-b0da-e24ac9135b70",
   "metadata": {},
   "outputs": [],
   "source": [
    "a = \"Neha is my nickname\""
   ]
  },
  {
   "cell_type": "code",
   "execution_count": 20,
   "id": "f235c08b-b0e0-4527-8789-558b8b8e472c",
   "metadata": {},
   "outputs": [
    {
     "data": {
      "text/plain": [
       "'Neha is my nickname'"
      ]
     },
     "execution_count": 20,
     "metadata": {},
     "output_type": "execute_result"
    }
   ],
   "source": [
    "a"
   ]
  },
  {
   "cell_type": "code",
   "execution_count": 6,
   "id": "d0242c4a-5533-4a3f-857e-5c9dd45d2a86",
   "metadata": {},
   "outputs": [
    {
     "data": {
      "text/plain": [
       "str"
      ]
     },
     "execution_count": 6,
     "metadata": {},
     "output_type": "execute_result"
    }
   ],
   "source": [
    "type(a)"
   ]
  },
  {
   "cell_type": "code",
   "execution_count": 7,
   "id": "a3225756-e828-4823-830e-f1501547a111",
   "metadata": {},
   "outputs": [],
   "source": [
    "#List"
   ]
  },
  {
   "cell_type": "code",
   "execution_count": 8,
   "id": "6042f8ed-c452-4d3f-b140-f69c91f2fbb2",
   "metadata": {},
   "outputs": [],
   "source": [
    "l=[1,2,\"Neha\",4.376,True,4+7j,5,6]"
   ]
  },
  {
   "cell_type": "code",
   "execution_count": 9,
   "id": "d4807435-d099-4354-8701-6666dd31726f",
   "metadata": {},
   "outputs": [
    {
     "data": {
      "text/plain": [
       "[1, 2, 'Neha', 4.376, True, (4+7j), 5, 6]"
      ]
     },
     "execution_count": 9,
     "metadata": {},
     "output_type": "execute_result"
    }
   ],
   "source": [
    "l"
   ]
  },
  {
   "cell_type": "code",
   "execution_count": 10,
   "id": "061fdfc2-2f76-4696-b977-16021a9cd2bb",
   "metadata": {},
   "outputs": [
    {
     "data": {
      "text/plain": [
       "list"
      ]
     },
     "execution_count": 10,
     "metadata": {},
     "output_type": "execute_result"
    }
   ],
   "source": [
    "type(l)"
   ]
  },
  {
   "cell_type": "code",
   "execution_count": 11,
   "id": "90e3c921-877d-47d7-be25-321917369f10",
   "metadata": {},
   "outputs": [],
   "source": [
    "#float"
   ]
  },
  {
   "cell_type": "code",
   "execution_count": 12,
   "id": "aab8a611-3015-406f-b15e-a1926dbdeba4",
   "metadata": {},
   "outputs": [],
   "source": [
    "f=45.678"
   ]
  },
  {
   "cell_type": "code",
   "execution_count": 13,
   "id": "ed2f38ed-bee3-4766-aa93-b264ace956c4",
   "metadata": {},
   "outputs": [
    {
     "data": {
      "text/plain": [
       "45.678"
      ]
     },
     "execution_count": 13,
     "metadata": {},
     "output_type": "execute_result"
    }
   ],
   "source": [
    "f"
   ]
  },
  {
   "cell_type": "code",
   "execution_count": 14,
   "id": "1f6b6e9e-567b-478b-bb6a-442d123c9b2e",
   "metadata": {},
   "outputs": [
    {
     "data": {
      "text/plain": [
       "float"
      ]
     },
     "execution_count": 14,
     "metadata": {},
     "output_type": "execute_result"
    }
   ],
   "source": [
    "type(f)"
   ]
  },
  {
   "cell_type": "code",
   "execution_count": 15,
   "id": "f0404157-859c-45f7-9614-097ebadb7943",
   "metadata": {},
   "outputs": [],
   "source": [
    "#tuple"
   ]
  },
  {
   "cell_type": "code",
   "execution_count": 16,
   "id": "1d15925f-fdfc-463d-8862-480548c75bcf",
   "metadata": {},
   "outputs": [],
   "source": [
    "t=(1,2,3,4,\"Neha\",5,6)"
   ]
  },
  {
   "cell_type": "code",
   "execution_count": 17,
   "id": "121b848e-2abc-476f-b032-f797631ba262",
   "metadata": {},
   "outputs": [
    {
     "data": {
      "text/plain": [
       "(1, 2, 3, 4, 'Neha', 5, 6)"
      ]
     },
     "execution_count": 17,
     "metadata": {},
     "output_type": "execute_result"
    }
   ],
   "source": [
    "t"
   ]
  },
  {
   "cell_type": "code",
   "execution_count": 18,
   "id": "437e71e9-5c61-42bb-80f7-4f151462b286",
   "metadata": {},
   "outputs": [
    {
     "data": {
      "text/plain": [
       "tuple"
      ]
     },
     "execution_count": 18,
     "metadata": {},
     "output_type": "execute_result"
    }
   ],
   "source": [
    "type(t)"
   ]
  },
  {
   "cell_type": "code",
   "execution_count": null,
   "id": "fce3e945-c37f-4849-a5a5-f63e6ecb0804",
   "metadata": {},
   "outputs": [],
   "source": []
  },
  {
   "cell_type": "markdown",
   "id": "399d2587-b1c5-4809-83be-cb09dca43839",
   "metadata": {},
   "source": [
    "Q2. Given are some following variables containing data:\n",
    "(i)\tvar1 = ‘ ‘                                     (ii) var2 = ‘[ DS , ML , Python]’\n",
    "(iii)\tvar3 = [ ‘DS’ , ’ML’ , ‘Python’ ]          (iv)\tvar4 = 1\n",
    "What will be the data type of the above given variable.\n"
   ]
  },
  {
   "cell_type": "code",
   "execution_count": 21,
   "id": "34369611-1ad7-40a9-a5a4-94db5d34fdd9",
   "metadata": {},
   "outputs": [],
   "source": [
    "#var1"
   ]
  },
  {
   "cell_type": "code",
   "execution_count": 22,
   "id": "d650bb54-1297-45b9-9879-5e2d268e9791",
   "metadata": {},
   "outputs": [],
   "source": [
    "var1 = ''"
   ]
  },
  {
   "cell_type": "code",
   "execution_count": 23,
   "id": "9a53e091-788a-4b8e-93d7-944411c356a3",
   "metadata": {},
   "outputs": [
    {
     "data": {
      "text/plain": [
       "''"
      ]
     },
     "execution_count": 23,
     "metadata": {},
     "output_type": "execute_result"
    }
   ],
   "source": [
    "var1"
   ]
  },
  {
   "cell_type": "code",
   "execution_count": 41,
   "id": "c43d48b6-e9d7-4746-a284-514b15eb0019",
   "metadata": {},
   "outputs": [
    {
     "data": {
      "text/plain": [
       "str"
      ]
     },
     "execution_count": 41,
     "metadata": {},
     "output_type": "execute_result"
    }
   ],
   "source": [
    "type(var1)"
   ]
  },
  {
   "cell_type": "code",
   "execution_count": null,
   "id": "458c060d-1caa-458e-bc74-08e4e140171c",
   "metadata": {},
   "outputs": [],
   "source": [
    "#type of var1 is string (str)"
   ]
  },
  {
   "cell_type": "code",
   "execution_count": null,
   "id": "383bc59e-5d61-4456-9bc9-b6eba92b51ad",
   "metadata": {},
   "outputs": [],
   "source": []
  },
  {
   "cell_type": "code",
   "execution_count": 25,
   "id": "0b3c8680-ec44-47c8-b81b-eb9e707e8663",
   "metadata": {},
   "outputs": [],
   "source": [
    "#var2"
   ]
  },
  {
   "cell_type": "code",
   "execution_count": 30,
   "id": "491454b0-5cd9-49fc-8b26-0ade1f95da48",
   "metadata": {},
   "outputs": [],
   "source": [
    "var2='[DS,ML,PYTHON]'"
   ]
  },
  {
   "cell_type": "code",
   "execution_count": 31,
   "id": "6ae3c805-015b-4124-9dbd-20f85f2303a5",
   "metadata": {},
   "outputs": [
    {
     "data": {
      "text/plain": [
       "'[DS,ML,PYTHON]'"
      ]
     },
     "execution_count": 31,
     "metadata": {},
     "output_type": "execute_result"
    }
   ],
   "source": [
    "var2"
   ]
  },
  {
   "cell_type": "code",
   "execution_count": 32,
   "id": "0d6ee5bc-cfb7-4616-8c62-f15d4f46c1c9",
   "metadata": {},
   "outputs": [
    {
     "data": {
      "text/plain": [
       "str"
      ]
     },
     "execution_count": 32,
     "metadata": {},
     "output_type": "execute_result"
    }
   ],
   "source": [
    "type(var2)"
   ]
  },
  {
   "cell_type": "code",
   "execution_count": null,
   "id": "34876d04-e56d-4213-88b1-bd3037f06924",
   "metadata": {},
   "outputs": [],
   "source": [
    "#type of var2 is string (str)"
   ]
  },
  {
   "cell_type": "code",
   "execution_count": null,
   "id": "0315498b-4f3e-44b8-b5fa-5b6de7899ccd",
   "metadata": {},
   "outputs": [],
   "source": []
  },
  {
   "cell_type": "code",
   "execution_count": 33,
   "id": "20ffba1e-cb5e-47eb-9798-ffd05535af98",
   "metadata": {},
   "outputs": [],
   "source": [
    "#var3"
   ]
  },
  {
   "cell_type": "code",
   "execution_count": 34,
   "id": "2048dd83-6953-41a7-b3ca-39cf20642bcd",
   "metadata": {},
   "outputs": [],
   "source": [
    "var3=['DS','ML','Python']"
   ]
  },
  {
   "cell_type": "code",
   "execution_count": 35,
   "id": "22ec19c9-7bea-4daa-9496-6b10288356b3",
   "metadata": {},
   "outputs": [
    {
     "data": {
      "text/plain": [
       "['DS', 'ML', 'Python']"
      ]
     },
     "execution_count": 35,
     "metadata": {},
     "output_type": "execute_result"
    }
   ],
   "source": [
    "var3"
   ]
  },
  {
   "cell_type": "code",
   "execution_count": 36,
   "id": "05be3614-6bf7-4e09-b307-45c54dc01455",
   "metadata": {},
   "outputs": [
    {
     "data": {
      "text/plain": [
       "list"
      ]
     },
     "execution_count": 36,
     "metadata": {},
     "output_type": "execute_result"
    }
   ],
   "source": [
    "type(var3)"
   ]
  },
  {
   "cell_type": "code",
   "execution_count": 42,
   "id": "946c5af4-0f32-47d7-919c-095dbdc891e1",
   "metadata": {},
   "outputs": [],
   "source": [
    "#type of var3 is list"
   ]
  },
  {
   "cell_type": "code",
   "execution_count": null,
   "id": "f6dbe321-5b02-41fd-8ce0-4b2fabc5607b",
   "metadata": {},
   "outputs": [],
   "source": []
  },
  {
   "cell_type": "code",
   "execution_count": 37,
   "id": "1d2cc6d9-fa69-42e5-83fe-300c860b6b6c",
   "metadata": {},
   "outputs": [],
   "source": [
    "#var4"
   ]
  },
  {
   "cell_type": "code",
   "execution_count": 38,
   "id": "692471d4-68c2-4bfd-a92c-6022fe9d63c0",
   "metadata": {},
   "outputs": [],
   "source": [
    "var4=1"
   ]
  },
  {
   "cell_type": "code",
   "execution_count": 39,
   "id": "86e4f12c-889c-4c52-a995-a2685dd84c08",
   "metadata": {},
   "outputs": [
    {
     "data": {
      "text/plain": [
       "1"
      ]
     },
     "execution_count": 39,
     "metadata": {},
     "output_type": "execute_result"
    }
   ],
   "source": [
    "var4"
   ]
  },
  {
   "cell_type": "code",
   "execution_count": 40,
   "id": "cb4f7e21-9503-49cf-b7fa-645d648275bb",
   "metadata": {},
   "outputs": [
    {
     "data": {
      "text/plain": [
       "int"
      ]
     },
     "execution_count": 40,
     "metadata": {},
     "output_type": "execute_result"
    }
   ],
   "source": [
    "type(var4)"
   ]
  },
  {
   "cell_type": "code",
   "execution_count": 43,
   "id": "58992a49-2566-4b8b-88ee-d2fe5992d9a8",
   "metadata": {},
   "outputs": [],
   "source": [
    "#type of var4 is integer (int)"
   ]
  },
  {
   "cell_type": "code",
   "execution_count": null,
   "id": "d64061ad-4126-45e4-a8be-a6ad67587a64",
   "metadata": {},
   "outputs": [],
   "source": []
  },
  {
   "cell_type": "markdown",
   "id": "5b5f9c54-676f-452e-9cee-e4f7be6822d1",
   "metadata": {},
   "source": [
    "Q3. Explain the use of the following operators using an example:\n",
    "i)\t/        (ii)\t%         (iii)\t//     (iv)\t**"
   ]
  },
  {
   "cell_type": "code",
   "execution_count": 44,
   "id": "7d184f76-1abd-41d2-9341-f96e6508c2e7",
   "metadata": {},
   "outputs": [],
   "source": [
    "#i) /"
   ]
  },
  {
   "cell_type": "markdown",
   "id": "e9ff0f74-366f-4185-891e-ef70d41a5d1a",
   "metadata": {},
   "source": [
    " i) / -> is a division operator \n",
    "*Division operator is one of the arithmetic operator, used during mathematical operations.\n",
    "*It is used when we need to perform division between two numbers. The number written first will be divided by the next number.\n",
    "Just like p/q or 4/2, so here 4 will be divided by 2.\n",
    "\n",
    "Example:"
   ]
  },
  {
   "cell_type": "code",
   "execution_count": 45,
   "id": "aae8de6b-9579-4398-902c-e61a6d9addde",
   "metadata": {},
   "outputs": [
    {
     "data": {
      "text/plain": [
       "23.5"
      ]
     },
     "execution_count": 45,
     "metadata": {},
     "output_type": "execute_result"
    }
   ],
   "source": [
    "47/2"
   ]
  },
  {
   "cell_type": "code",
   "execution_count": 46,
   "id": "2c7a27ed-37ce-48b8-981f-852836fbe961",
   "metadata": {},
   "outputs": [
    {
     "data": {
      "text/plain": [
       "58.0"
      ]
     },
     "execution_count": 46,
     "metadata": {},
     "output_type": "execute_result"
    }
   ],
   "source": [
    "348/6"
   ]
  },
  {
   "cell_type": "code",
   "execution_count": null,
   "id": "fe076259-fff5-45a3-b8b1-0bf32477db41",
   "metadata": {},
   "outputs": [],
   "source": []
  },
  {
   "cell_type": "code",
   "execution_count": 47,
   "id": "f046ebb8-0750-472e-a9f8-b45fe07e9bbf",
   "metadata": {},
   "outputs": [],
   "source": [
    "#ii) %"
   ]
  },
  {
   "cell_type": "markdown",
   "id": "e117b9b2-da57-47f9-ac2b-aa1fa72045ea",
   "metadata": {},
   "source": [
    "ii) % -> is known as Modulus operator.*Modulus operator is one of the arithmetic operator, used to calculate mathemtical operations.*In modulus operator when the first operand is divided by the second operand  number, the remainder will be the answer.Just like 1%4 = 1\n",
    "Example:\n"
   ]
  },
  {
   "cell_type": "code",
   "execution_count": 48,
   "id": "692f9154-12b6-4445-a51c-47f355ab7a5b",
   "metadata": {},
   "outputs": [
    {
     "data": {
      "text/plain": [
       "7"
      ]
     },
     "execution_count": 48,
     "metadata": {},
     "output_type": "execute_result"
    }
   ],
   "source": [
    "7%12"
   ]
  },
  {
   "cell_type": "code",
   "execution_count": 52,
   "id": "a683df5e-2bec-45f1-8dc4-46b52ebe9d21",
   "metadata": {},
   "outputs": [
    {
     "data": {
      "text/plain": [
       "8"
      ]
     },
     "execution_count": 52,
     "metadata": {},
     "output_type": "execute_result"
    }
   ],
   "source": [
    "8%32"
   ]
  },
  {
   "cell_type": "code",
   "execution_count": null,
   "id": "ed6399d7-183b-47df-9626-dba55e3b2b5e",
   "metadata": {},
   "outputs": [],
   "source": []
  },
  {
   "cell_type": "code",
   "execution_count": 53,
   "id": "c4fdde3a-bdb5-40f7-9420-7e5c19894c33",
   "metadata": {},
   "outputs": [],
   "source": [
    "#iii) //"
   ]
  },
  {
   "cell_type": "markdown",
   "id": "084a16c0-e5e8-4882-90dc-2244fecaaf7a",
   "metadata": {},
   "source": [
    "iii) // -> floor division operator. *Division floor operator is one of the arithmetic operator.*This operator will divide the first argument by the second. *Primarily used when we require an integer or need to return the smallest integer less than or equal to the input. *If the operands are both integers, then the output will an integer.\n",
    "Example:"
   ]
  },
  {
   "cell_type": "code",
   "execution_count": 54,
   "id": "51eef59b-da00-4735-bc47-da3467fdde19",
   "metadata": {},
   "outputs": [
    {
     "data": {
      "text/plain": [
       "1"
      ]
     },
     "execution_count": 54,
     "metadata": {},
     "output_type": "execute_result"
    }
   ],
   "source": [
    "5//4"
   ]
  },
  {
   "cell_type": "code",
   "execution_count": 55,
   "id": "fcd53d38-d4a7-49de-8da6-dfbe3955880d",
   "metadata": {},
   "outputs": [
    {
     "data": {
      "text/plain": [
       "1"
      ]
     },
     "execution_count": 55,
     "metadata": {},
     "output_type": "execute_result"
    }
   ],
   "source": [
    "48//34"
   ]
  },
  {
   "cell_type": "code",
   "execution_count": null,
   "id": "a9e09eac-5121-4dee-934f-97e26274ce40",
   "metadata": {},
   "outputs": [],
   "source": []
  },
  {
   "cell_type": "code",
   "execution_count": 56,
   "id": "6b0c18f7-e9a9-4bcd-96e0-3c80fb4944c8",
   "metadata": {},
   "outputs": [],
   "source": [
    "#iv)**"
   ]
  },
  {
   "cell_type": "markdown",
   "id": "bd79d9ed-470b-4ebf-b155-16a4c3b8527a",
   "metadata": {},
   "source": [
    "iv) ** -> Exponential or Power operator.*Exponential operator is one of the arithmetic operator used to calculate the exponential value.*In simple words we can say that it squares the first operand into the number of times demanded in 2nd operand. Example:"
   ]
  },
  {
   "cell_type": "code",
   "execution_count": 57,
   "id": "1759551a-5101-4fe4-b32b-d68b5a093764",
   "metadata": {},
   "outputs": [
    {
     "data": {
      "text/plain": [
       "16"
      ]
     },
     "execution_count": 57,
     "metadata": {},
     "output_type": "execute_result"
    }
   ],
   "source": [
    "2**4"
   ]
  },
  {
   "cell_type": "code",
   "execution_count": 59,
   "id": "2746e58a-cd5b-4fc9-bd71-46f776fe9db6",
   "metadata": {},
   "outputs": [
    {
     "data": {
      "text/plain": [
       "3125"
      ]
     },
     "execution_count": 59,
     "metadata": {},
     "output_type": "execute_result"
    }
   ],
   "source": [
    "5**5"
   ]
  },
  {
   "cell_type": "code",
   "execution_count": null,
   "id": "ef5582b4-9c86-4e91-83da-47174ab51e63",
   "metadata": {},
   "outputs": [],
   "source": []
  },
  {
   "cell_type": "markdown",
   "id": "a4406c59-8432-4f6f-90cc-8c979bf339fd",
   "metadata": {},
   "source": [
    "Q4. Create a list of length 10 of your choice containing multiple types of data. Using for loop print the \n",
    "element and its data type."
   ]
  },
  {
   "cell_type": "code",
   "execution_count": 1,
   "id": "1d1a6b71-85dc-41cd-b323-1053cf6a000a",
   "metadata": {},
   "outputs": [],
   "source": [
    "l=[30,26,\"Neha\",\"Manpreet\",4+7j,89.470,True]"
   ]
  },
  {
   "cell_type": "code",
   "execution_count": 18,
   "id": "555db1f1-1fe9-426c-9480-f6e03466afc9",
   "metadata": {},
   "outputs": [
    {
     "name": "stdout",
     "output_type": "stream",
     "text": [
      "30 <class 'int'>\n",
      "26 <class 'int'>\n",
      "Neha <class 'str'>\n",
      "Manpreet <class 'str'>\n",
      "(4+7j) <class 'complex'>\n",
      "89.47 <class 'float'>\n",
      "True <class 'bool'>\n"
     ]
    }
   ],
   "source": [
    "for i in l:\n",
    "    print(i,type(i))"
   ]
  },
  {
   "cell_type": "code",
   "execution_count": null,
   "id": "4f9fe252-55c9-4446-89b6-09d7782b37af",
   "metadata": {},
   "outputs": [],
   "source": []
  },
  {
   "cell_type": "markdown",
   "id": "167783b1-f32a-461c-b642-d9ee3dcd1c75",
   "metadata": {},
   "source": [
    "Q5. Using a while loop, verify if the number A is purely divisible by number B and if so then how many \n",
    "times it can be divisible."
   ]
  },
  {
   "cell_type": "code",
   "execution_count": 7,
   "id": "ab55b2b8-9542-4fb2-8664-806efebbc886",
   "metadata": {},
   "outputs": [
    {
     "name": "stdin",
     "output_type": "stream",
     "text": [
      "Enter the num 100\n",
      "Enter the num to divide a 3\n"
     ]
    },
    {
     "name": "stdout",
     "output_type": "stream",
     "text": [
      "Not divisible\n"
     ]
    }
   ],
   "source": [
    "a=int(input(\"Enter the num\"))\n",
    "b=int(input(\"Enter the num to divide a\"))\n",
    "c=a/b\n",
    "while a%b==0 :\n",
    "    print(c)\n",
    "    break\n",
    "else:\n",
    "    print(\"Not divisible\")"
   ]
  },
  {
   "cell_type": "code",
   "execution_count": 5,
   "id": "24f46482-f930-4afa-bb7b-38542493d312",
   "metadata": {},
   "outputs": [
    {
     "name": "stdin",
     "output_type": "stream",
     "text": [
      "Enter the num 45\n",
      "Enter the num to divide a 9\n"
     ]
    },
    {
     "name": "stdout",
     "output_type": "stream",
     "text": [
      "5.0\n"
     ]
    }
   ],
   "source": [
    "a=int(input(\"Enter the num\"))\n",
    "b=int(input(\"Enter the num to divide a\"))\n",
    "c=a/b\n",
    "while a%b==0 :\n",
    "    print(c)\n",
    "    break\n",
    "else:\n",
    "    print(\"Not divisible\")"
   ]
  },
  {
   "cell_type": "code",
   "execution_count": null,
   "id": "2cb7c7d5-6478-4885-8d89-56ba2b1354c7",
   "metadata": {},
   "outputs": [],
   "source": []
  },
  {
   "cell_type": "markdown",
   "id": "3fff8226-115a-4157-b6fd-0c20c7815e1e",
   "metadata": {},
   "source": [
    "Q6. Create a list containing 25 int type data. Using for loop and if-else condition print if the element is \n",
    "divisible by 3 or not."
   ]
  },
  {
   "cell_type": "code",
   "execution_count": 16,
   "id": "ca60c353-31dd-4380-91b1-eb1f5f781960",
   "metadata": {},
   "outputs": [
    {
     "name": "stdout",
     "output_type": "stream",
     "text": [
      "2 is not divisible\n",
      "4 is not divisible\n",
      "7 is not divisible\n",
      "15 is divisible by 3\n",
      "21 is divisible by 3\n",
      "18 is divisible by 3\n",
      "35 is not divisible\n",
      "45 is divisible by 3\n",
      "48 is divisible by 3\n",
      "64 is not divisible\n",
      "25 is not divisible\n",
      "12 is divisible by 3\n",
      "9 is divisible by 3\n",
      "30 is divisible by 3\n",
      "10 is not divisible\n",
      "68 is not divisible\n",
      "51 is divisible by 3\n",
      "44 is not divisible\n",
      "56 is not divisible\n",
      "38 is not divisible\n",
      "28 is not divisible\n",
      "55 is not divisible\n",
      "15 is divisible by 3\n",
      "39 is divisible by 3\n",
      "43 is not divisible\n"
     ]
    }
   ],
   "source": [
    "l=[2,4,7,15,21,18,35,45,48,64,25,12,9,30,10,68,51,44,56,38,28,55,15,39,43]\n",
    "l\n",
    "len(l)\n",
    "for i in l:\n",
    "    if(i%3==0):\n",
    "        print(i,\"is divisible by 3\")\n",
    "    else:\n",
    "        print(i,\"is not divisible\")\n"
   ]
  },
  {
   "cell_type": "code",
   "execution_count": null,
   "id": "b90e0bd3-ecf5-450d-b045-1abad7254e6e",
   "metadata": {},
   "outputs": [],
   "source": []
  },
  {
   "cell_type": "markdown",
   "id": "7e97e339-030c-47b8-a5a0-d80c4954e3a8",
   "metadata": {},
   "source": [
    "Q7. What do you understand about mutable and immutable data types? Give examples for both showing \n",
    "this property."
   ]
  },
  {
   "cell_type": "markdown",
   "id": "26c04763-fca8-411c-bec3-4c2dbc580a89",
   "metadata": {},
   "source": [
    "*Mutable data type:\n",
    "Mutable objects allow us to change their value or data in place or we can allows to change its index, without affecting the object's identity.\n",
    "Example: Lists, dictionaries, sets are mutable\n",
    "*Immutable data type:\n",
    "Immutable objects does not allow us to change their value or data in place or we can say does not allows to vhange its index.\n",
    "Example:str, int, float, bool, complex, tuples are immutable.\n"
   ]
  },
  {
   "cell_type": "code",
   "execution_count": 2,
   "id": "aa78881d-bf42-403b-9ff9-9c5df30add2c",
   "metadata": {},
   "outputs": [
    {
     "data": {
      "text/plain": [
       "list"
      ]
     },
     "execution_count": 2,
     "metadata": {},
     "output_type": "execute_result"
    }
   ],
   "source": [
    "#Mutable object example:\n",
    "l=[123,789,\"Neha\",\"7+j\",True,4.78]\n",
    "type(l)"
   ]
  },
  {
   "cell_type": "code",
   "execution_count": 3,
   "id": "af0c7da6-72b3-4b48-98aa-fe78e74f91b1",
   "metadata": {},
   "outputs": [
    {
     "data": {
      "text/plain": [
       "'Neha'"
      ]
     },
     "execution_count": 3,
     "metadata": {},
     "output_type": "execute_result"
    }
   ],
   "source": [
    "l[2]"
   ]
  },
  {
   "cell_type": "code",
   "execution_count": 7,
   "id": "6a198640-aee2-45c4-beb5-cd9ccb4bccbd",
   "metadata": {},
   "outputs": [],
   "source": [
    "l[3]=78 #change into diff data type"
   ]
  },
  {
   "cell_type": "code",
   "execution_count": 8,
   "id": "a590c5e4-7298-4302-8fd6-73f1fd493ec8",
   "metadata": {},
   "outputs": [
    {
     "data": {
      "text/plain": [
       "78"
      ]
     },
     "execution_count": 8,
     "metadata": {},
     "output_type": "execute_result"
    }
   ],
   "source": [
    "l[3]"
   ]
  },
  {
   "cell_type": "code",
   "execution_count": 9,
   "id": "9f0f4674-50bf-4862-95e8-efa901fcb7ad",
   "metadata": {},
   "outputs": [],
   "source": [
    "#Immutable object example"
   ]
  },
  {
   "cell_type": "code",
   "execution_count": 10,
   "id": "30a72d8a-4c9c-42ab-b51c-ee9e279b2d9b",
   "metadata": {},
   "outputs": [
    {
     "data": {
      "text/plain": [
       "'s'"
      ]
     },
     "execution_count": 10,
     "metadata": {},
     "output_type": "execute_result"
    }
   ],
   "source": [
    "s=\"pwskills\"\n",
    "s[2]"
   ]
  },
  {
   "cell_type": "code",
   "execution_count": 11,
   "id": "66d51548-9412-419d-8f02-e25f38f5c65f",
   "metadata": {},
   "outputs": [
    {
     "ename": "TypeError",
     "evalue": "'str' object does not support item assignment",
     "output_type": "error",
     "traceback": [
      "\u001b[0;31m---------------------------------------------------------------------------\u001b[0m",
      "\u001b[0;31mTypeError\u001b[0m                                 Traceback (most recent call last)",
      "Cell \u001b[0;32mIn[11], line 1\u001b[0m\n\u001b[0;32m----> 1\u001b[0m \u001b[43ms\u001b[49m\u001b[43m[\u001b[49m\u001b[38;5;241;43m2\u001b[39;49m\u001b[43m]\u001b[49m\u001b[38;5;241m=\u001b[39m\u001b[38;5;124m\"\u001b[39m\u001b[38;5;124mm\u001b[39m\u001b[38;5;124m\"\u001b[39m\n",
      "\u001b[0;31mTypeError\u001b[0m: 'str' object does not support item assignment"
     ]
    }
   ],
   "source": [
    "s[2]=\"m\""
   ]
  },
  {
   "cell_type": "code",
   "execution_count": null,
   "id": "6639e8f9-2c90-4cc3-97ac-13ced088f09f",
   "metadata": {},
   "outputs": [],
   "source": []
  }
 ],
 "metadata": {
  "kernelspec": {
   "display_name": "Python 3 (ipykernel)",
   "language": "python",
   "name": "python3"
  },
  "language_info": {
   "codemirror_mode": {
    "name": "ipython",
    "version": 3
   },
   "file_extension": ".py",
   "mimetype": "text/x-python",
   "name": "python",
   "nbconvert_exporter": "python",
   "pygments_lexer": "ipython3",
   "version": "3.10.8"
  }
 },
 "nbformat": 4,
 "nbformat_minor": 5
}
