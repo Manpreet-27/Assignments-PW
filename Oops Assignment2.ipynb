{
 "cells": [
  {
   "cell_type": "code",
   "execution_count": 1,
   "id": "5f5bd334-b162-41fa-a5d6-ddb986937e12",
   "metadata": {},
   "outputs": [],
   "source": [
    "#OOPs Assignment 2 "
   ]
  },
  {
   "cell_type": "markdown",
   "id": "8729dfb0-402c-4e47-8ff1-d64a8f50313a",
   "metadata": {},
   "source": [
    "Q1. What is Abstraction in OOps? Explain with an example."
   ]
  },
  {
   "cell_type": "markdown",
   "id": "c7a3dd1b-9d39-4716-aecb-23e4276a38a5",
   "metadata": {},
   "source": [
    "Abstraction is the process of hiding the internal details of an application from the outer world. Abstraction is used to describe things in simple terms. It is absically used to create a blueprint between the application and the client programs."
   ]
  },
  {
   "cell_type": "code",
   "execution_count": 2,
   "id": "cd10bb02-d2c7-45cb-ba3c-4e6f7377a0a2",
   "metadata": {},
   "outputs": [],
   "source": [
    "import abc\n",
    "class car:\n",
    "    @abc.abstractmethod\n",
    "    def car_models(self):\n",
    "        pass\n",
    "    @abc.abstractmethod\n",
    "    def car_brands(self):\n",
    "        pass\n",
    "    @abc.abstractmethod\n",
    "    def car_colours(self):\n",
    "        pass"
   ]
  },
  {
   "cell_type": "markdown",
   "id": "be78ae33-94eb-40c0-beb0-a8c3456d59ed",
   "metadata": {},
   "source": [
    "So in the above example we have just created a blueprint by defining the methods so that the other user can call our class and and use those methods. They can inherits the methods of our existing class which we have abstracted into some other or new class"
   ]
  },
  {
   "cell_type": "code",
   "execution_count": 16,
   "id": "609e9069-4886-4477-9a00-91f9a373e0f4",
   "metadata": {},
   "outputs": [],
   "source": [
    "class Tata_Motors(car):\n",
    "    def car_models(self):\n",
    "        return \"Jaguar, Tata Nexon, Tata Tiago, Tata Harrier are the models of our brand Tata\"\n",
    "    \n",
    "    def car_brands(self):\n",
    "        return \"This car belongs to Tata Motors\"\n",
    "    \n",
    "    def car_colour(self):\n",
    "        return \"The colour of my car is Black\"\n",
    "\n",
    "#we have created another class \"Tata Motors\" and we are inheriting the properties of class car (previously created)."
   ]
  },
  {
   "cell_type": "code",
   "execution_count": 17,
   "id": "e9bcf07c-49ed-4681-97f5-57136f35bdee",
   "metadata": {},
   "outputs": [],
   "source": [
    "#Creating object to call the method\n",
    "Jaguar = Tata_Motors()"
   ]
  },
  {
   "cell_type": "code",
   "execution_count": 18,
   "id": "98fc5dad-5c02-4f3b-a0a9-045f00dd6a62",
   "metadata": {},
   "outputs": [
    {
     "data": {
      "text/plain": [
       "'This car belongs to Tata Motors'"
      ]
     },
     "execution_count": 18,
     "metadata": {},
     "output_type": "execute_result"
    }
   ],
   "source": [
    "Jaguar.car_brands()"
   ]
  },
  {
   "cell_type": "code",
   "execution_count": 19,
   "id": "9036a85a-04e9-49f1-9e18-5bb54952805d",
   "metadata": {},
   "outputs": [],
   "source": [
    "Tata_Nexa = Tata_Motors()"
   ]
  },
  {
   "cell_type": "code",
   "execution_count": 20,
   "id": "f7e87782-3db4-4ede-8806-2b19ea423ae9",
   "metadata": {},
   "outputs": [
    {
     "data": {
      "text/plain": [
       "'Jaguar, Tata Nexon, Tata Tiago, Tata Harrier are the models of our brand Tata'"
      ]
     },
     "execution_count": 20,
     "metadata": {},
     "output_type": "execute_result"
    }
   ],
   "source": [
    "Tata_Nexa.car_models()"
   ]
  },
  {
   "cell_type": "code",
   "execution_count": null,
   "id": "5be233ae-43b0-4c99-ba55-16c8dff4aac1",
   "metadata": {},
   "outputs": [],
   "source": []
  },
  {
   "cell_type": "markdown",
   "id": "0b5e6ff5-bbd0-4c9b-b4a4-416eeb5418fd",
   "metadata": {},
   "source": [
    "Q2. Differentiate between Abstraction and Encapsulation. Explain with an example."
   ]
  },
  {
   "cell_type": "markdown",
   "id": "fc7000d1-d725-4590-b8e8-7120a582e208",
   "metadata": {},
   "source": [
    "Abstraction is defined as a process of hiding the implementation details of a system from the user. Thus, by using abstraction, we provided only the functionality of the system to the user. Consequently, the user will have information on what the system does, but not on how the system does it.It is absically used to create a blueprint between the application and the client programs. The complexities of the implementation are hidden using interface and abstract class.\n",
    "\n",
    "Encapsulation is defined as a method by which data wrapping is done into a single unit. It is used in wrapping up the data and the code acting on the data together as a single unit.\n",
    "In encapsulation, the variables of a class are hidden from other classes, and can be accessed only by methods of the current class. Therefore, encapsulation is also called data hiding. Encapsulation is implemented using access modifiers like public, private and protected.We use __ before variable to private our variable. The data is hidden using methods such as getters and setters."
   ]
  },
  {
   "cell_type": "code",
   "execution_count": 38,
   "id": "4f17598e-0d74-4f4e-ad1f-f7be3cebbbbf",
   "metadata": {},
   "outputs": [],
   "source": [
    "#Example\n",
    "import abc\n",
    "class banking_functions:\n",
    "    @abc.abstractmethod\n",
    "    def deposit(self, amount):\n",
    "        pass\n",
    "    @abc.abstractmethod\n",
    "    def withdraw(self, amount):\n",
    "        pass\n",
    "    @abc.abstractmethod\n",
    "    def get_balance(self):\n",
    "        pass\n",
    "#here we have used abstraction as a blueprint, so these are the methods we will be using in our encapsulation part."
   ]
  },
  {
   "cell_type": "code",
   "execution_count": 48,
   "id": "feada6c5-e0f9-4db6-8e08-cad9ed942292",
   "metadata": {},
   "outputs": [],
   "source": [
    "class bank_account(banking_functions):\n",
    "    def __init__(self, balance):\n",
    "        self.__balance = balance #we are using \"__\" before writing variable \"balance\" to encapsulate it.\n",
    "        \n",
    "    # method to deposit (using from abstraction)\n",
    "    def deposit(self, amount):\n",
    "        self.__balance = self.__balance + amount\n",
    "        \n",
    "    #method to withdraw (using from abstraction)\n",
    "    def withdraw(self, amount):\n",
    "        if self.__balance >= amount:\n",
    "            self.__balance = self.__balance - amount\n",
    "            return \"Withdrawal successful\"\n",
    "        else:\n",
    "            return False\n",
    "        \n",
    "    #method to display balance amount\n",
    "    def get_balance(self):\n",
    "        return self.__balance\n",
    "        "
   ]
  },
  {
   "cell_type": "code",
   "execution_count": 49,
   "id": "0865d338-bbfa-463c-a441-0c13738a714b",
   "metadata": {},
   "outputs": [],
   "source": [
    "My_Account = bank_account(0)"
   ]
  },
  {
   "cell_type": "code",
   "execution_count": 50,
   "id": "e48248e8-2f04-49db-a320-e54d7053ceb0",
   "metadata": {},
   "outputs": [
    {
     "data": {
      "text/plain": [
       "0"
      ]
     },
     "execution_count": 50,
     "metadata": {},
     "output_type": "execute_result"
    }
   ],
   "source": [
    "My_Account.get_balance()"
   ]
  },
  {
   "cell_type": "code",
   "execution_count": 51,
   "id": "6874c5e7-1db0-4e39-ba04-46be29e87eb8",
   "metadata": {},
   "outputs": [],
   "source": [
    "My_Account.deposit(10000)"
   ]
  },
  {
   "cell_type": "code",
   "execution_count": 52,
   "id": "b8dcc970-827b-4722-a4f1-ba9fbb0ef246",
   "metadata": {},
   "outputs": [
    {
     "data": {
      "text/plain": [
       "10000"
      ]
     },
     "execution_count": 52,
     "metadata": {},
     "output_type": "execute_result"
    }
   ],
   "source": [
    "My_Account.get_balance()"
   ]
  },
  {
   "cell_type": "code",
   "execution_count": 53,
   "id": "9c6d8cbd-c076-4cc9-9abf-b3dff625f896",
   "metadata": {},
   "outputs": [
    {
     "data": {
      "text/plain": [
       "'Withdrawal successful'"
      ]
     },
     "execution_count": 53,
     "metadata": {},
     "output_type": "execute_result"
    }
   ],
   "source": [
    "My_Account.withdraw(5000)"
   ]
  },
  {
   "cell_type": "code",
   "execution_count": 54,
   "id": "d6dca7a1-29a9-4b85-a3bc-921f9601ea8b",
   "metadata": {},
   "outputs": [
    {
     "data": {
      "text/plain": [
       "5000"
      ]
     },
     "execution_count": 54,
     "metadata": {},
     "output_type": "execute_result"
    }
   ],
   "source": [
    "My_Account.get_balance()"
   ]
  },
  {
   "cell_type": "code",
   "execution_count": null,
   "id": "7eaffd24-1919-46b9-ae47-3c3a71564f92",
   "metadata": {},
   "outputs": [],
   "source": []
  },
  {
   "cell_type": "markdown",
   "id": "4d94971a-6b91-4981-ba1a-dd15ccc9b73c",
   "metadata": {},
   "source": [
    "Q3. What is abc module in python? Why is it used?"
   ]
  },
  {
   "cell_type": "markdown",
   "id": "eb02b2f4-bc40-40ce-a64c-9486a7c899c3",
   "metadata": {},
   "source": [
    "abc module:\n",
    "\n",
    "Python is not a fully object-oriented programming language but it supports the features like abstract classes and abstraction. We cannot create abstract classes directly in Python, so Python provides a module called abc that provides the infrastructure for defining the base of Abstract Base Classes(abc). Abstract class cannot be instantiated in python.\n",
    "\n",
    "Uses:\n",
    "\n",
    "abc module provides a set of ABCs for common collection types in Python, such as lists, dictionaries, sets, and more. These ABCs can be used as a type of hint to indicate that a particular parameter or return value is expected to be a collection of a specific type. If a derived class doesn’t follow the blueprint of the abstract class, then the error will be raised. That’s where ABC(Abstract Base Class) plays an important role in making sure that the subclasses must follow that blueprint. Thus we can say that the subclasses inherited from the abstract class must follow the same structure and implements the abstract methods. The abc module allows us to define abstract methods using the @abstractmethod decorator, it also allows us to define abstract properties using the @abstractproperty decorator. To use abc module we should import it and then define abstract methods. [ import abc ]"
   ]
  },
  {
   "cell_type": "code",
   "execution_count": null,
   "id": "b5999e51-95c2-4918-96f4-22b4d0e6e77c",
   "metadata": {},
   "outputs": [],
   "source": []
  },
  {
   "cell_type": "markdown",
   "id": "bedb62cf-d980-4ed4-9137-e9906828d639",
   "metadata": {},
   "source": [
    "Q4. How can we achieve data abstraction?"
   ]
  },
  {
   "cell_type": "markdown",
   "id": "7dc17534-e5bc-437d-b0e1-a89a6f4df9a0",
   "metadata": {},
   "source": [
    "Data abstraction:\n",
    "\n",
    "Data abstraction in Python is a programming concept that hides complex implementation details while exposing only essential information and functionalities to users. We can achieve data abstraction by using abstract classes and abstract classes can be created using abc (abstract base class) module and abstractmethod of abc module.\n",
    "\n",
    "Implementation of Data Abstraction in Python\n",
    "\n",
    "Firstly, we will import abc library, then we will create a base class ‘Car’ that inherited from ‘abc’ class that we have imported. Inside base class we create init function, abstract function and non-abstract functions. To declare abstract function we will use “@abstractmethod” decorator. After that we will create child class hatchback and suv. We will write the implementation of abstract method in both child classes. We will create an instance of a child class and call the method. In this way we can achieve the data abstraction.(Example below code)"
   ]
  },
  {
   "cell_type": "code",
   "execution_count": 21,
   "id": "b70ca5fd-8b1a-467a-ba5c-65723334fcd0",
   "metadata": {},
   "outputs": [],
   "source": [
    "import abc\n",
    "class car:\n",
    "    @abc.abstractmethod\n",
    "    def car_models(self):\n",
    "        pass\n",
    "    @abc.abstractmethod\n",
    "    def car_brands(self):\n",
    "        pass\n",
    "    @abc.abstractmethod\n",
    "    def car_colours(self):\n",
    "        pass"
   ]
  },
  {
   "cell_type": "code",
   "execution_count": 64,
   "id": "e847933d-0352-44c4-9390-f0c70783a35b",
   "metadata": {},
   "outputs": [],
   "source": [
    "class Tata_Motors(car):\n",
    "        \n",
    "    def car_models(self):\n",
    "        return \"Jaguar, Tata Nexon, Tata Tiago, Tata Harrier are the models of our brand Tata\"\n",
    "    \n",
    "    def car_brands(self):\n",
    "        return \"This car belongs to Tata Motors\"\n",
    "    \n",
    "    def car_colour(self):\n",
    "        return \"The colour of my car is Black\"\n",
    "        \n",
    "    "
   ]
  },
  {
   "cell_type": "code",
   "execution_count": 65,
   "id": "c755589c-406a-46cd-94a8-ff07a99af4a1",
   "metadata": {},
   "outputs": [],
   "source": [
    "Jaguar = Tata_Motors()"
   ]
  },
  {
   "cell_type": "code",
   "execution_count": 67,
   "id": "7818a192-d012-46ce-bbef-3dc47137ec1f",
   "metadata": {},
   "outputs": [
    {
     "data": {
      "text/plain": [
       "'This car belongs to Tata Motors'"
      ]
     },
     "execution_count": 67,
     "metadata": {},
     "output_type": "execute_result"
    }
   ],
   "source": [
    "Jaguar.car_brands()"
   ]
  },
  {
   "cell_type": "code",
   "execution_count": 69,
   "id": "73cd3ca4-428a-41b2-ab08-c7ddb1b70f31",
   "metadata": {},
   "outputs": [
    {
     "data": {
      "text/plain": [
       "'Jaguar, Tata Nexon, Tata Tiago, Tata Harrier are the models of our brand Tata'"
      ]
     },
     "execution_count": 69,
     "metadata": {},
     "output_type": "execute_result"
    }
   ],
   "source": [
    "Jaguar.car_models()"
   ]
  },
  {
   "cell_type": "code",
   "execution_count": 70,
   "id": "64620d08-9dcd-4245-ba65-2f0ef16ad072",
   "metadata": {},
   "outputs": [
    {
     "data": {
      "text/plain": [
       "'The colour of my car is Black'"
      ]
     },
     "execution_count": 70,
     "metadata": {},
     "output_type": "execute_result"
    }
   ],
   "source": [
    "Jaguar.car_colour()"
   ]
  },
  {
   "cell_type": "code",
   "execution_count": null,
   "id": "c4f9cbed-94ef-421b-84c5-aa5d372c1e01",
   "metadata": {},
   "outputs": [],
   "source": []
  },
  {
   "cell_type": "markdown",
   "id": "41d30d97-9aab-4c20-a0c6-48838fcef68a",
   "metadata": {},
   "source": [
    "Q5. Can we create an instance of an abstract class? Explain your answer"
   ]
  },
  {
   "cell_type": "markdown",
   "id": "1b5e6f15-e265-4f0e-bf7e-965feeb1c751",
   "metadata": {},
   "source": [
    "No, we can not create an instance of an abstract class.\n",
    "In Python, abstract base classes provide a blueprint for concrete classes. They don’t contain implementation. Instead, they provide an interface and make sure that derived concrete classes are properly implemented.Abstract base classes cannot be instantiated. Instead, they are inherited and extended by the concrete subclasses.Subclasses derived from a specific abstract base class must implement the methods and properties provided in that abstract base class. Otherwise, an error is raised during the object instantiation."
   ]
  },
  {
   "cell_type": "code",
   "execution_count": null,
   "id": "e4de5ae7-240d-4acf-bd4a-6fa8802a4e95",
   "metadata": {},
   "outputs": [],
   "source": []
  }
 ],
 "metadata": {
  "kernelspec": {
   "display_name": "Python 3 (ipykernel)",
   "language": "python",
   "name": "python3"
  },
  "language_info": {
   "codemirror_mode": {
    "name": "ipython",
    "version": 3
   },
   "file_extension": ".py",
   "mimetype": "text/x-python",
   "name": "python",
   "nbconvert_exporter": "python",
   "pygments_lexer": "ipython3",
   "version": "3.10.8"
  }
 },
 "nbformat": 4,
 "nbformat_minor": 5
}
